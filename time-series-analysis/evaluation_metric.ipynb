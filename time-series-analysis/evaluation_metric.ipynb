{
 "cells": [
  {
   "cell_type": "code",
   "execution_count": 1,
   "id": "d1007f3f",
   "metadata": {},
   "outputs": [],
   "source": [
    "import pandas as pd\n",
    "import numpy as np"
   ]
  },
  {
   "cell_type": "code",
   "execution_count": 2,
   "id": "2d0e748d",
   "metadata": {},
   "outputs": [],
   "source": [
    "df = pd.DataFrame(np.array([[0.2136, 199.17, 0.2127, 199.26, 0.2208, 205.1, 0.2391, 216.01, 394448], \n",
    "                            [0.2879, 309.34, 0.2953, 314.29, 0.29, 310.45, 0.3616, 359.76, 321476], \n",
    "                            [0.2184, 157.21, 0.2169, 156.33, 0.2183, 157.78, 0.2030, 148.27, 200760],\n",
    "                            [0.2643, 138.41, 0.2644, 138.69, 0.2726, 142.72, 0.2866, 149.57, 180231],\n",
    "                            [0.3110, 135.2, 0.3071, 133.57, 0.3165, 136.87, 0.1992, 90.45, 149433],\n",
    "                            [0.2856, 121.77, 0.2861, 121.9, 0.2860, 121.96, 0.3092, 141.33, 143444],\n",
    "                            [0.3077, 108.42, 0.3065, 108.01, 0.3095, 109.12, 0.2979, 105.10, 113035],\n",
    "                            [0.2383, 54.28, 0.2393, 54.52, 0.2427, 55.49, 0.249, 56.97, 103089],\n",
    "                            [0.2516, 61.86, 0.2543, 62.38, 0.2531, 62.61, 0.249, 60.75, 96049],\n",
    "                            [0.4473, 58.02, 0.4518, 58.56, 0.4459, 57.91, 0.4350, 55.12, 42276]\n",
    "                           ]),\n",
    "                   columns=['MAPE_sarimax_roberta', \n",
    "                            'RMSE_sarimax_roberta',\n",
    "                            'MAPE_sarimax_truth',\n",
    "                            'RMSE_sarimax_truth',\n",
    "                            'MAPE_SARIMA',\n",
    "                            'RMSE_SARIMA',\n",
    "                            'MAPE_ETS',\n",
    "                            'RMSE_ETS',\n",
    "                            'Weight'\n",
    "                           ])"
   ]
  },
  {
   "cell_type": "code",
   "execution_count": 7,
   "id": "ccc7504a",
   "metadata": {},
   "outputs": [
    {
     "data": {
      "text/plain": [
       "array([2.62665710e-01, 1.71094897e+02, 2.63609821e-01, 1.71855598e+02,\n",
       "       2.66456567e-01, 1.73465670e+02, 2.74466206e-01, 1.81907258e+02,\n",
       "       2.34512983e+05])"
      ]
     },
     "execution_count": 7,
     "metadata": {},
     "output_type": "execute_result"
    }
   ],
   "source": [
    "np.average(df, axis = 0, weights = df.Weight)"
   ]
  },
  {
   "cell_type": "code",
   "execution_count": 8,
   "id": "9ffec554",
   "metadata": {},
   "outputs": [
    {
     "data": {
      "text/plain": [
       "MAPE_sarimax_roberta         0.28257\n",
       "RMSE_sarimax_roberta       134.36800\n",
       "MAPE_sarimax_truth           0.28344\n",
       "RMSE_sarimax_truth         134.75100\n",
       "MAPE_SARIMA                  0.28554\n",
       "RMSE_SARIMA                136.00100\n",
       "MAPE_ETS                     0.28296\n",
       "RMSE_ETS                   138.33300\n",
       "Weight                  174424.10000\n",
       "dtype: float64"
      ]
     },
     "execution_count": 8,
     "metadata": {},
     "output_type": "execute_result"
    }
   ],
   "source": [
    "df.mean()"
   ]
  },
  {
   "cell_type": "code",
   "execution_count": null,
   "id": "4a07e8f2",
   "metadata": {},
   "outputs": [],
   "source": []
  }
 ],
 "metadata": {
  "kernelspec": {
   "display_name": "Python 3 (ipykernel)",
   "language": "python",
   "name": "python3"
  },
  "language_info": {
   "codemirror_mode": {
    "name": "ipython",
    "version": 3
   },
   "file_extension": ".py",
   "mimetype": "text/x-python",
   "name": "python",
   "nbconvert_exporter": "python",
   "pygments_lexer": "ipython3",
   "version": "3.9.12"
  }
 },
 "nbformat": 4,
 "nbformat_minor": 5
}
