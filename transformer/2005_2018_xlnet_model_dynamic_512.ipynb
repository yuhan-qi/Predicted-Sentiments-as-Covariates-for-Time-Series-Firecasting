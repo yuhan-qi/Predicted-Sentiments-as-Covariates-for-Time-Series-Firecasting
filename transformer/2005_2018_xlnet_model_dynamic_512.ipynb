{
 "cells": [
  {
   "cell_type": "code",
   "execution_count": 1,
   "id": "f791a42c",
   "metadata": {},
   "outputs": [],
   "source": [
    "#general purpose packages\n",
    "import numpy as np\n",
    "import pandas as pd\n",
    "import matplotlib.pyplot as plt\n",
    "import time\n",
    "import datetime\n",
    "import random\n",
    "from tqdm import tqdm\n",
    "import json\n",
    "#data procedding\n",
    "from sklearn.model_selection import train_test_split\n",
    "#transformers\n",
    "from transformers import XLNetTokenizer\n",
    "from transformers import AutoConfig\n",
    "from transformers import AutoModelForSequenceClassification\n",
    "from transformers import AdamW\n",
    "from transformers import get_linear_schedule_with_warmup\n",
    "#torch\n",
    "from keras.utils import np_utils\n",
    "import torch\n",
    "#metrics\n",
    "from sklearn.metrics import accuracy_score, f1_score\n",
    "from sklearn.metrics import confusion_matrix, classification_report"
   ]
  },
  {
   "cell_type": "code",
   "execution_count": 2,
   "id": "c79a68f2",
   "metadata": {},
   "outputs": [],
   "source": [
    "#set seed for reproducibility\n",
    "seed=321\n",
    "random.seed(seed)\n",
    "np.random.seed(seed)\n",
    "torch.manual_seed(seed)\n",
    "torch.cuda.manual_seed_all(seed)"
   ]
  },
  {
   "cell_type": "code",
   "execution_count": 4,
   "id": "ce51ceff",
   "metadata": {},
   "outputs": [],
   "source": [
    "data = pd.read_json('~/environment/data/sample_1000000_2005_2018_cleaned.json')"
   ]
  },
  {
   "cell_type": "code",
   "execution_count": 5,
   "id": "848259ee",
   "metadata": {},
   "outputs": [
    {
     "data": {
      "text/html": [
       "<div>\n",
       "<style scoped>\n",
       "    .dataframe tbody tr th:only-of-type {\n",
       "        vertical-align: middle;\n",
       "    }\n",
       "\n",
       "    .dataframe tbody tr th {\n",
       "        vertical-align: top;\n",
       "    }\n",
       "\n",
       "    .dataframe thead th {\n",
       "        text-align: right;\n",
       "    }\n",
       "</style>\n",
       "<table border=\"1\" class=\"dataframe\">\n",
       "  <thead>\n",
       "    <tr style=\"text-align: right;\">\n",
       "      <th></th>\n",
       "      <th>index</th>\n",
       "      <th>text</th>\n",
       "      <th>stars</th>\n",
       "      <th>cleaned_text</th>\n",
       "    </tr>\n",
       "  </thead>\n",
       "  <tbody>\n",
       "    <tr>\n",
       "      <th>1105058</th>\n",
       "      <td>2344352</td>\n",
       "      <td>Excellent food and customer service! My mom fo...</td>\n",
       "      <td>5</td>\n",
       "      <td>Excellent food and customer service ! My mom f...</td>\n",
       "    </tr>\n",
       "  </tbody>\n",
       "</table>\n",
       "</div>"
      ],
      "text/plain": [
       "           index                                               text  stars  \\\n",
       "1105058  2344352  Excellent food and customer service! My mom fo...      5   \n",
       "\n",
       "                                              cleaned_text  \n",
       "1105058  Excellent food and customer service ! My mom f...  "
      ]
     },
     "execution_count": 5,
     "metadata": {},
     "output_type": "execute_result"
    }
   ],
   "source": [
    "data.head(1)"
   ]
  },
  {
   "cell_type": "code",
   "execution_count": 6,
   "id": "ce7e917d",
   "metadata": {},
   "outputs": [
    {
     "data": {
      "text/plain": [
       "5    426404\n",
       "4    266102\n",
       "3    121561\n",
       "1    102135\n",
       "2     83798\n",
       "Name: stars, dtype: int64"
      ]
     },
     "execution_count": 6,
     "metadata": {},
     "output_type": "execute_result"
    }
   ],
   "source": [
    "data.stars.value_counts()"
   ]
  },
  {
   "cell_type": "code",
   "execution_count": 7,
   "id": "7adff197",
   "metadata": {},
   "outputs": [
    {
     "data": {
      "text/plain": [
       "(1000000, 5)"
      ]
     },
     "execution_count": 7,
     "metadata": {},
     "output_type": "execute_result"
    }
   ],
   "source": [
    "data['stars_reduce'] = data['stars']-1\n",
    "dummy_y = np_utils.to_categorical(data.stars_reduce)\n",
    "dummy_y.shape"
   ]
  },
  {
   "cell_type": "code",
   "execution_count": 8,
   "id": "c0eefb01",
   "metadata": {},
   "outputs": [],
   "source": [
    "X_train, X_val,Y_train, Y_val = train_test_split(data.cleaned_text, dummy_y, test_size=0.2, \n",
    "                                                 stratify=dummy_y, random_state = seed)"
   ]
  },
  {
   "cell_type": "code",
   "execution_count": 9,
   "id": "d5fbb512",
   "metadata": {},
   "outputs": [],
   "source": [
    "MAX_LEN=512\n",
    "tokenizer = XLNetTokenizer.from_pretrained(\"xlnet-base-cased\")"
   ]
  },
  {
   "cell_type": "code",
   "execution_count": 10,
   "id": "2d1280eb",
   "metadata": {},
   "outputs": [],
   "source": [
    "def tokenize_xlnet(data,max_len=MAX_LEN) :\n",
    "    input_ids = []\n",
    "    labels = []\n",
    "    \n",
    "    for sent in data:\n",
    "        encoded = tokenizer.encode(\n",
    "            text=sent,\n",
    "            add_special_tokens=True,\n",
    "            truncation=True,\n",
    "            max_length=MAX_LEN,\n",
    "            padding=False\n",
    "        )\n",
    "        input_ids.append(encoded)\n",
    "    return input_ids"
   ]
  },
  {
   "cell_type": "code",
   "execution_count": 11,
   "id": "92ceedb7",
   "metadata": {},
   "outputs": [],
   "source": [
    "train_ids = tokenize_xlnet(X_train, MAX_LEN)\n",
    "val_ids = tokenize_xlnet(X_val, MAX_LEN)"
   ]
  },
  {
   "cell_type": "code",
   "execution_count": 12,
   "id": "8d34244f",
   "metadata": {},
   "outputs": [],
   "source": [
    "#sort by length\n",
    "train_samples = sorted(zip(train_ids, Y_train), key=lambda x: len(x[0]))\n",
    "val_samples = sorted(zip(val_ids, Y_val), key=lambda x: len(x[0]))"
   ]
  },
  {
   "cell_type": "code",
   "execution_count": 13,
   "id": "2258304a",
   "metadata": {},
   "outputs": [
    {
     "name": "stdout",
     "output_type": "stream",
     "text": [
      "Shortest sample: 3\n",
      "Longest sample: 512\n"
     ]
    }
   ],
   "source": [
    "print('Shortest sample:', len(train_samples[0][0]))\n",
    "print('Longest sample:', len(train_samples[-1][0]))"
   ]
  },
  {
   "cell_type": "code",
   "execution_count": 14,
   "id": "274a767d",
   "metadata": {},
   "outputs": [],
   "source": [
    "def select_batches(samples, batch_size):\n",
    "    batch_ordered_sentences = []\n",
    "    batch_ordered_labels = []\n",
    "    text_data = samples.copy()\n",
    "    while len(text_data) > 0:\n",
    "        to_take = min(batch_size, len(text_data))\n",
    "        select = random.randint(0, len(text_data) - to_take)\n",
    "        batch = text_data[select:(select + to_take)]\n",
    "        batch_ordered_sentences.append([s[0] for s in batch])\n",
    "        batch_ordered_labels.append([s[1] for s in batch])\n",
    "        del text_data[select:select + to_take]\n",
    "    # print('\\n  DONE - {:,} batches.'.format(len(batch_ordered_sentences)))\n",
    "    return batch_ordered_sentences, batch_ordered_labels"
   ]
  },
  {
   "cell_type": "code",
   "execution_count": 15,
   "id": "f6b7747b",
   "metadata": {},
   "outputs": [],
   "source": [
    "def add_padding(batch_ordered_sentences, batch_ordered_labels):\n",
    "    py_inputs = []\n",
    "    py_attn_masks = []\n",
    "    py_labels = []\n",
    "    for (batch_inputs, batch_labels) in zip(batch_ordered_sentences, batch_ordered_labels):\n",
    "        batch_padded_inputs = []\n",
    "        batch_attn_masks = []\n",
    "\n",
    "        max_size = max([len(sen) for sen in batch_inputs])\n",
    "        for sen in batch_inputs:\n",
    "            num_pads = max_size - len(sen)\n",
    "            padded_input = sen + [tokenizer.pad_token_id]*num_pads\n",
    "            attn_mask = [1] * len(sen) + [0] * num_pads\n",
    "            batch_padded_inputs.append(padded_input)\n",
    "            batch_attn_masks.append(attn_mask)\n",
    "\n",
    "        py_inputs.append(torch.tensor(batch_padded_inputs))\n",
    "        py_attn_masks.append(torch.tensor(batch_attn_masks))\n",
    "        py_labels.append(torch.tensor(batch_labels))\n",
    "    return py_inputs,py_attn_masks,py_labels"
   ]
  },
  {
   "cell_type": "code",
   "execution_count": 16,
   "id": "2408a546",
   "metadata": {},
   "outputs": [],
   "source": [
    "def flat_accuracy(preds, labels):\n",
    "    pred = np.argmax(preds, axis=1)+1\n",
    "    label = np.argmax(labels, axis=1)+1\n",
    "    # print('preds_flat ', pred)\n",
    "    # print('labels_flat ', label)\n",
    "    return np.sum(pred == label) / len(label)"
   ]
  },
  {
   "cell_type": "code",
   "execution_count": 17,
   "id": "76fae7bc",
   "metadata": {},
   "outputs": [
    {
     "name": "stdout",
     "output_type": "stream",
     "text": [
      "Config type: <class 'transformers.models.xlnet.configuration_xlnet.XLNetConfig'> \n",
      "\n"
     ]
    },
    {
     "name": "stderr",
     "output_type": "stream",
     "text": [
      "Some weights of the model checkpoint at xlnet-base-cased were not used when initializing XLNetForSequenceClassification: ['lm_loss.weight', 'lm_loss.bias']\n",
      "- This IS expected if you are initializing XLNetForSequenceClassification from the checkpoint of a model trained on another task or with another architecture (e.g. initializing a BertForSequenceClassification model from a BertForPreTraining model).\n",
      "- This IS NOT expected if you are initializing XLNetForSequenceClassification from the checkpoint of a model that you expect to be exactly identical (initializing a BertForSequenceClassification model from a BertForSequenceClassification model).\n",
      "Some weights of XLNetForSequenceClassification were not initialized from the model checkpoint at xlnet-base-cased and are newly initialized: ['sequence_summary.summary.bias', 'sequence_summary.summary.weight', 'logits_proj.weight', 'logits_proj.bias']\n",
      "You should probably TRAIN this model on a down-stream task to be able to use it for predictions and inference.\n"
     ]
    },
    {
     "name": "stdout",
     "output_type": "stream",
     "text": [
      "\n",
      "Model type: <class 'transformers.models.xlnet.modeling_xlnet.XLNetForSequenceClassification'>\n"
     ]
    }
   ],
   "source": [
    "config = AutoConfig.from_pretrained(pretrained_model_name_or_path='xlnet-base-cased',num_labels=5)\n",
    "print('Config type:', str(type(config)), '\\n')\n",
    "\n",
    "model = AutoModelForSequenceClassification.from_pretrained(pretrained_model_name_or_path='xlnet-base-cased',config=config)\n",
    "print('\\nModel type:', str(type(model)))"
   ]
  },
  {
   "cell_type": "code",
   "execution_count": 18,
   "id": "82824994",
   "metadata": {},
   "outputs": [
    {
     "name": "stdout",
     "output_type": "stream",
     "text": [
      "\n",
      "Loading model to GPU...\n",
      "  GPU: Tesla V100-PCIE-16GB\n",
      "    DONE.\n"
     ]
    }
   ],
   "source": [
    "print('\\nLoading model to GPU...')\n",
    "device = torch.device('cuda')\n",
    "print('  GPU:', torch.cuda.get_device_name(0))\n",
    "desc = model.to(device)\n",
    "print('    DONE.')"
   ]
  },
  {
   "cell_type": "code",
   "execution_count": 19,
   "id": "52fea813",
   "metadata": {},
   "outputs": [],
   "source": [
    "BatchSize=8\n",
    "Epochs=2\n",
    "TotalSteps = len(train_ids) * Epochs\n",
    "optimizer = torch.optim.AdamW(model.parameters(), lr = 2e-5)\n",
    "scheduler = get_linear_schedule_with_warmup(optimizer, \n",
    "                                            num_warmup_steps = 0,\n",
    "                                            num_training_steps = TotalSteps)"
   ]
  },
  {
   "cell_type": "code",
   "execution_count": 20,
   "id": "182bc837",
   "metadata": {},
   "outputs": [],
   "source": [
    "def model_train(model, epochs, batch_size, train_data, val_data):\n",
    "    # store evaluation metrics\n",
    "    training_stats = []\n",
    "    total_t0 = time.time()\n",
    "\n",
    "    for epoch_i in range(0, epochs):\n",
    "    # ========================================\n",
    "    #               Training\n",
    "    # ========================================\n",
    "        print(\"\")\n",
    "        print('======== Epoch {:} / {:} ========'.format(epoch_i + 1, epochs))\n",
    "        train_sentences, train_labels = select_batches(train_data, batch_size)\n",
    "        train_input_ids, train_attention_masks, train_type_ids = add_padding(train_sentences, train_labels)\n",
    "\n",
    "        \n",
    "        print('Training on {:,} batches...'.format(len(train_input_ids)))\n",
    "        t0 = time.time()\n",
    "        total_train_accuracy = 0\n",
    "        total_train_loss = 0\n",
    "        model.train()\n",
    "        for step in tqdm(range(0, len(train_input_ids))):\n",
    "            b_input_ids = train_input_ids[step].to(device)\n",
    "            b_input_mask = train_attention_masks[step].to(device)\n",
    "            b_labels = train_type_ids[step].to(device)\n",
    "            model.zero_grad()\n",
    "            result = model(b_input_ids, \n",
    "                           token_type_ids=None, \n",
    "                           attention_mask=b_input_mask, \n",
    "                           labels=b_labels,\n",
    "                           return_dict = True)\n",
    "            loss = result.loss\n",
    "            total_train_loss += loss.item()\n",
    "            logits = result.logits.detach().cpu().numpy()\n",
    "            label_ids = b_labels.to('cpu').numpy()\n",
    "            # print('logits ', logits)\n",
    "            # print('label_ids ', label_ids)\n",
    "            total_train_accuracy += flat_accuracy(logits, label_ids)\n",
    "            loss.backward()\n",
    "            torch.nn.utils.clip_grad_norm_(model.parameters(), 1.0)\n",
    "            optimizer.step()\n",
    "            scheduler.step()\n",
    "        avg_train_loss = total_train_loss / len(train_input_ids)\n",
    "        avg_train_accuracy = total_train_accuracy / len(train_input_ids)\n",
    "        training_time = str(datetime.timedelta(seconds = int(round(time.time() - t0))))\n",
    "        print(\"\")\n",
    "        print(\"  Average training loss: {0:.4f}\".format(avg_train_loss))\n",
    "        print(\"  Average training accuracy: {0:.4f}\".format(avg_train_accuracy))\n",
    "        print(\"  Training epcoh {} took: {:}\".format(epoch_i + 1, training_time))\n",
    "    # ========================================\n",
    "    #               Validation\n",
    "    # ========================================\n",
    "        val_sentences, val_labels = select_batches(val_data, batch_size)\n",
    "        val_input_ids, val_attention_masks, val_type_ids = add_padding(val_sentences, val_labels)\n",
    "        print('Validating on {:,} batches...'.format(len(val_input_ids)))\n",
    "        t0 = time.time()\n",
    "        total_val_accuracy = 0\n",
    "        total_val_loss = 0\n",
    "        model.eval()\n",
    "        for step in tqdm(range(0, len(val_input_ids))):\n",
    "            b_input_ids = val_input_ids[step].to(device)\n",
    "            b_input_mask = val_attention_masks[step].to(device)\n",
    "            b_labels = val_type_ids[step].to(device)\n",
    "            with torch.no_grad():  \n",
    "                val_result = model(b_input_ids, \n",
    "                                       token_type_ids=None, \n",
    "                                       attention_mask=b_input_mask, \n",
    "                                       labels=b_labels)\n",
    "            logits = val_result.logits.detach().cpu().numpy()\n",
    "            label_ids = b_labels.to('cpu').numpy()\n",
    "            loss = val_result.loss\n",
    "            total_val_loss += loss.item()\n",
    "            total_val_accuracy += flat_accuracy(logits, label_ids)\n",
    "        avg_val_accuracy = total_val_accuracy / len(val_input_ids)\n",
    "        avg_val_loss = total_val_loss / len(val_input_ids)\n",
    "        val_time = str(datetime.timedelta(seconds = int(round(time.time() - t0))))\n",
    "        print(\"\")\n",
    "        print(\"  Average validation loss: {0:.4f}\".format(avg_val_loss))\n",
    "        print(\"  Average validation accuracy: {0:.4f}\".format(avg_val_accuracy))\n",
    "        print(\"  Validation epcoh {} took: {:}\".format(epoch_i + 1, val_time))\n",
    "        torch.save(model.state_dict(), '/home/ubuntu/environment/model/xlnet_512_2005_2018_{}'.format(epoch_i + 1))\n",
    "        training_stats.append(\n",
    "            {\n",
    "                'epoch': epoch_i + 1,\n",
    "                'Training Loss': avg_train_loss,\n",
    "                'Training Accuracy':avg_train_accuracy,\n",
    "                'Training Time': training_time,\n",
    "                'Validation Loss':avg_val_loss,\n",
    "                'Validation Accuracy':avg_val_accuracy,\n",
    "                'Validation Time': val_time,\n",
    "            }\n",
    "        )\n",
    "    print(\"\")\n",
    "    print(\"Training complete!\")\n",
    "    total_time = str(datetime.timedelta(seconds = int(round(time.time() - total_t0))))\n",
    "    print(\"Total training took: {:}\".format(total_time))\n",
    "    return training_stats"
   ]
  },
  {
   "cell_type": "code",
   "execution_count": 21,
   "id": "06840cf0",
   "metadata": {},
   "outputs": [
    {
     "name": "stdout",
     "output_type": "stream",
     "text": [
      "\n",
      "======== Epoch 1 / 2 ========\n"
     ]
    },
    {
     "name": "stderr",
     "output_type": "stream",
     "text": [
      "/tmp/ipykernel_857185/101667468.py:19: UserWarning: Creating a tensor from a list of numpy.ndarrays is extremely slow. Please consider converting the list to a single numpy.ndarray with numpy.array() before converting to a tensor. (Triggered internally at  ../torch/csrc/utils/tensor_new.cpp:210.)\n",
      "  py_labels.append(torch.tensor(batch_labels))\n"
     ]
    },
    {
     "name": "stdout",
     "output_type": "stream",
     "text": [
      "Training on 100,000 batches...\n"
     ]
    },
    {
     "name": "stderr",
     "output_type": "stream",
     "text": [
      "100%|█████████████████████████████████| 100000/100000 [4:44:51<00:00,  5.85it/s]\n"
     ]
    },
    {
     "name": "stdout",
     "output_type": "stream",
     "text": [
      "\n",
      "  Average training loss: 0.2487\n",
      "  Average training accuracy: 0.7079\n",
      "  Training epcoh 1 took: 4:44:52\n",
      "Validating on 25,000 batches...\n"
     ]
    },
    {
     "name": "stderr",
     "output_type": "stream",
     "text": [
      "100%|█████████████████████████████████████| 25000/25000 [26:05<00:00, 15.97it/s]\n"
     ]
    },
    {
     "name": "stdout",
     "output_type": "stream",
     "text": [
      "\n",
      "  Average validation loss: 0.2390\n",
      "  Average validation accuracy: 0.7210\n",
      "  Validation epcoh 1 took: 0:26:06\n",
      "\n",
      "======== Epoch 2 / 2 ========\n",
      "Training on 100,000 batches...\n"
     ]
    },
    {
     "name": "stderr",
     "output_type": "stream",
     "text": [
      "100%|█████████████████████████████████| 100000/100000 [4:50:08<00:00,  5.74it/s]\n"
     ]
    },
    {
     "name": "stdout",
     "output_type": "stream",
     "text": [
      "\n",
      "  Average training loss: 0.2335\n",
      "  Average training accuracy: 0.7311\n",
      "  Training epcoh 2 took: 4:50:09\n",
      "Validating on 25,000 batches...\n"
     ]
    },
    {
     "name": "stderr",
     "output_type": "stream",
     "text": [
      "100%|█████████████████████████████████████| 25000/25000 [26:29<00:00, 15.72it/s]\n"
     ]
    },
    {
     "name": "stdout",
     "output_type": "stream",
     "text": [
      "\n",
      "  Average validation loss: 0.2417\n",
      "  Average validation accuracy: 0.7253\n",
      "  Validation epcoh 2 took: 0:26:30\n",
      "\n",
      "Training complete!\n",
      "Total training took: 10:28:45\n"
     ]
    }
   ],
   "source": [
    "history = model_train(model, Epochs, BatchSize, train_samples, val_samples)"
   ]
  },
  {
   "cell_type": "code",
   "execution_count": null,
   "id": "b8b10dec",
   "metadata": {},
   "outputs": [],
   "source": [
    "# torch.save(model.state_dict(), '/home/ubuntu/environment/model/xlnet_512_2005_2018')"
   ]
  },
  {
   "cell_type": "code",
   "execution_count": 22,
   "id": "3212e852",
   "metadata": {},
   "outputs": [],
   "source": [
    "with open(\"/home/ubuntu/environment/performance/xlnet_512_history.json\", 'w') as f:\n",
    "    json.dump(history, f, indent=2) "
   ]
  },
  {
   "cell_type": "code",
   "execution_count": 23,
   "id": "9c95e782",
   "metadata": {},
   "outputs": [
    {
     "data": {
      "text/html": [
       "<div>\n",
       "<style scoped>\n",
       "    .dataframe tbody tr th:only-of-type {\n",
       "        vertical-align: middle;\n",
       "    }\n",
       "\n",
       "    .dataframe tbody tr th {\n",
       "        vertical-align: top;\n",
       "    }\n",
       "\n",
       "    .dataframe thead th {\n",
       "        text-align: right;\n",
       "    }\n",
       "</style>\n",
       "<table border=\"1\" class=\"dataframe\">\n",
       "  <thead>\n",
       "    <tr style=\"text-align: right;\">\n",
       "      <th></th>\n",
       "      <th>epoch</th>\n",
       "      <th>Training Loss</th>\n",
       "      <th>Training Accuracy</th>\n",
       "      <th>Training Time</th>\n",
       "      <th>Validation Loss</th>\n",
       "      <th>Validation Accuracy</th>\n",
       "      <th>Validation Time</th>\n",
       "    </tr>\n",
       "  </thead>\n",
       "  <tbody>\n",
       "    <tr>\n",
       "      <th>0</th>\n",
       "      <td>1</td>\n",
       "      <td>0.248722</td>\n",
       "      <td>0.707856</td>\n",
       "      <td>4:44:52</td>\n",
       "      <td>0.238975</td>\n",
       "      <td>0.721035</td>\n",
       "      <td>0:26:06</td>\n",
       "    </tr>\n",
       "    <tr>\n",
       "      <th>1</th>\n",
       "      <td>2</td>\n",
       "      <td>0.233519</td>\n",
       "      <td>0.731080</td>\n",
       "      <td>4:50:09</td>\n",
       "      <td>0.241691</td>\n",
       "      <td>0.725325</td>\n",
       "      <td>0:26:30</td>\n",
       "    </tr>\n",
       "  </tbody>\n",
       "</table>\n",
       "</div>"
      ],
      "text/plain": [
       "   epoch  Training Loss  Training Accuracy Training Time  Validation Loss  \\\n",
       "0      1       0.248722           0.707856       4:44:52         0.238975   \n",
       "1      2       0.233519           0.731080       4:50:09         0.241691   \n",
       "\n",
       "   Validation Accuracy Validation Time  \n",
       "0             0.721035         0:26:06  \n",
       "1             0.725325         0:26:30  "
      ]
     },
     "execution_count": 23,
     "metadata": {},
     "output_type": "execute_result"
    }
   ],
   "source": [
    "history_pd = pd.DataFrame.from_records(history)\n",
    "history_pd"
   ]
  },
  {
   "cell_type": "code",
   "execution_count": 24,
   "id": "79f2e952",
   "metadata": {},
   "outputs": [
    {
     "data": {
      "text/plain": [
       "Text(0.5, 1.0, 'Accuracy')"
      ]
     },
     "execution_count": 24,
     "metadata": {},
     "output_type": "execute_result"
    },
    {
     "data": {
      "image/png": "[encoded data removed]",
      "text/plain": [
       "<Figure size 432x288 with 1 Axes>"
      ]
     },
     "metadata": {
      "needs_background": "light"
     },
     "output_type": "display_data"
    }
   ],
   "source": [
    "#plot accuracy\n",
    "# plt.figure(figsize=(15, 7))\n",
    "plt.plot(range(1, Epochs+1), history_pd['Training Accuracy'])\n",
    "plt.plot(range(1, Epochs+1), history_pd['Validation Accuracy'])\n",
    "plt.legend(['training_acc', 'validation_acc'])\n",
    "plt.title('Accuracy')"
   ]
  },
  {
   "cell_type": "code",
   "execution_count": 25,
   "id": "52a45fcf",
   "metadata": {},
   "outputs": [
    {
     "data": {
      "text/plain": [
       "Text(0.5, 1.0, 'Loss')"
      ]
     },
     "execution_count": 25,
     "metadata": {},
     "output_type": "execute_result"
    },
    {
     "data": {
      "image/png": "[encoded data removed]",
      "text/plain": [
       "<Figure size 432x288 with 1 Axes>"
      ]
     },
     "metadata": {
      "needs_background": "light"
     },
     "output_type": "display_data"
    }
   ],
   "source": [
    "#plot loss\n",
    "#plt.figure(figsize=(15, 7))\n",
    "plt.plot(range(1, Epochs+1), history_pd['Training Loss'])\n",
    "plt.plot(range(1, Epochs+1), history_pd['Validation Loss'])\n",
    "plt.legend(['training_loss', 'validation_loss'])\n",
    "plt.title('Loss')"
   ]
  },
  {
   "cell_type": "code",
   "execution_count": 26,
   "id": "024296c8",
   "metadata": {
    "scrolled": true
   },
   "outputs": [
    {
     "name": "stderr",
     "output_type": "stream",
     "text": [
      "Some weights of the model checkpoint at xlnet-base-cased were not used when initializing XLNetForSequenceClassification: ['lm_loss.weight', 'lm_loss.bias']\n",
      "- This IS expected if you are initializing XLNetForSequenceClassification from the checkpoint of a model trained on another task or with another architecture (e.g. initializing a BertForSequenceClassification model from a BertForPreTraining model).\n",
      "- This IS NOT expected if you are initializing XLNetForSequenceClassification from the checkpoint of a model that you expect to be exactly identical (initializing a BertForSequenceClassification model from a BertForSequenceClassification model).\n",
      "Some weights of XLNetForSequenceClassification were not initialized from the model checkpoint at xlnet-base-cased and are newly initialized: ['sequence_summary.summary.bias', 'sequence_summary.summary.weight', 'logits_proj.weight', 'logits_proj.bias']\n",
      "You should probably TRAIN this model on a down-stream task to be able to use it for predictions and inference.\n"
     ]
    }
   ],
   "source": [
    "model_loaded = AutoModelForSequenceClassification.from_pretrained(pretrained_model_name_or_path='xlnet-base-cased',config=config)\n",
    "model_loaded.load_state_dict(torch.load('/home/ubuntu/environment/model/xlnet_512_2005_2018_2'))\n",
    "device = torch.device('cuda')\n",
    "desc = model_loaded.to(device)"
   ]
  },
  {
   "cell_type": "code",
   "execution_count": 27,
   "id": "3e96073d",
   "metadata": {},
   "outputs": [],
   "source": [
    "data_test= pd.read_json('~/environment/data/restaurant_review_2019_cleaned.json')"
   ]
  },
  {
   "cell_type": "code",
   "execution_count": 28,
   "id": "efc13136",
   "metadata": {},
   "outputs": [],
   "source": [
    "test_star_reduce = data_test['stars']-1\n",
    "dummy_test_y = np_utils.to_categorical(test_star_reduce)"
   ]
  },
  {
   "cell_type": "code",
   "execution_count": 29,
   "id": "b6e8a2dc",
   "metadata": {},
   "outputs": [],
   "source": [
    "MAX_LEN=512\n",
    "tokenizer = XLNetTokenizer.from_pretrained(\"xlnet-base-cased\")\n",
    "BatchSize=8"
   ]
  },
  {
   "cell_type": "code",
   "execution_count": 30,
   "id": "252c0651",
   "metadata": {},
   "outputs": [],
   "source": [
    "def fixed_padding(tokenizer, train_text, train_labels, batch_size, max_len):\n",
    "    batches_input_ids = []\n",
    "    batches_attention_masks = []\n",
    "    batches_labels = []\n",
    "    for i in tqdm(range(0, len(train_text), batch_size)):\n",
    "        encoded_dict = tokenizer.batch_encode_plus(\n",
    "            train_text[i:i+batch_size], # Batch of sentences to encode.\n",
    "            add_special_tokens = True,  # Add '[CLS]' and '[SEP]'\n",
    "            max_length = max_len,           # Pad & truncate all sentences.\n",
    "            padding = 'max_length',     # Pad all to the `max_length` parameter.\n",
    "            truncation = True,\n",
    "            return_attention_mask = True,   # Construct attn. masks.\n",
    "            return_tensors = 'pt',     # Return pytorch tensors.\n",
    "        )\n",
    "        batches_input_ids.append(encoded_dict['input_ids'])\n",
    "        batches_attention_masks.append(encoded_dict['attention_mask'])\n",
    "        batches_labels.append(torch.tensor(train_labels[i:i+batch_size]))\n",
    "    return batches_input_ids,batches_attention_masks,batches_labels"
   ]
  },
  {
   "cell_type": "code",
   "execution_count": 31,
   "id": "aac6a4e5",
   "metadata": {},
   "outputs": [
    {
     "name": "stderr",
     "output_type": "stream",
     "text": [
      "100%|██████████████████████████████████| 100000/100000 [10:59<00:00, 151.73it/s]\n"
     ]
    }
   ],
   "source": [
    "train_input_ids, train_attention_masks, train_type_ids = fixed_padding(tokenizer, \n",
    "                                                                    X_train,\n",
    "                                                                    Y_train,\n",
    "                                                                    BatchSize, MAX_LEN)"
   ]
  },
  {
   "cell_type": "code",
   "execution_count": 32,
   "id": "79665f61",
   "metadata": {},
   "outputs": [
    {
     "name": "stderr",
     "output_type": "stream",
     "text": [
      "100%|████████████████████████████████████| 25000/25000 [02:52<00:00, 144.53it/s]\n"
     ]
    }
   ],
   "source": [
    "val_input_ids, val_attention_masks, val_type_ids = fixed_padding(tokenizer, \n",
    "                                                                    X_val,\n",
    "                                                                    Y_val,\n",
    "                                                                    BatchSize, MAX_LEN)"
   ]
  },
  {
   "cell_type": "code",
   "execution_count": 33,
   "id": "38e758d2",
   "metadata": {},
   "outputs": [
    {
     "name": "stderr",
     "output_type": "stream",
     "text": [
      "100%|████████████████████████████████████| 65575/65575 [06:56<00:00, 157.57it/s]\n"
     ]
    }
   ],
   "source": [
    "test_input_ids, test_attention_masks, test_type_ids = fixed_padding(tokenizer, \n",
    "                                                                    data_test.cleaned_text,\n",
    "                                                                    dummy_test_y,\n",
    "                                                                    BatchSize, MAX_LEN)"
   ]
  },
  {
   "cell_type": "code",
   "execution_count": 34,
   "id": "37bd6a7f",
   "metadata": {},
   "outputs": [],
   "source": [
    "def model_predict(model, batch_size, test_input_ids, test_attention_masks, test_type_ids):\n",
    "    t0 = time.time()\n",
    "    predictions , true_labels = [], []\n",
    "    \n",
    "    print('Predicting labels for {:,} test sentences...'.format(len(test_input_ids)))\n",
    "    model.eval()\n",
    "    for step in tqdm(range(0, len(test_input_ids))):\n",
    "        b_input_ids = test_input_ids[step].to(device)\n",
    "        b_input_mask = test_attention_masks[step].to(device)\n",
    "        b_labels = test_type_ids[step].to(device)\n",
    "        with torch.no_grad():  \n",
    "            outputs = model(b_input_ids, \n",
    "                                   token_type_ids=None, \n",
    "                                   attention_mask=b_input_mask)\n",
    "        logits = outputs[0]\n",
    "        logits = logits.detach().cpu().numpy()\n",
    "        label_ids = b_labels.to('cpu').numpy()\n",
    "        predictions.append(logits)\n",
    "        true_labels.append(label_ids)\n",
    "    test_time = str(datetime.timedelta(seconds = int(round(time.time() - t0))))\n",
    "    print(\"Total testing took: {:}\".format(test_time))\n",
    "    return predictions, true_labels"
   ]
  },
  {
   "cell_type": "code",
   "execution_count": 35,
   "id": "27e51695",
   "metadata": {},
   "outputs": [
    {
     "name": "stdout",
     "output_type": "stream",
     "text": [
      "Predicting labels for 100,000 test sentences...\n"
     ]
    },
    {
     "name": "stderr",
     "output_type": "stream",
     "text": [
      "100%|█████████████████████████████████| 100000/100000 [7:39:38<00:00,  3.63it/s]"
     ]
    },
    {
     "name": "stdout",
     "output_type": "stream",
     "text": [
      "Total testing took: 7:39:38\n"
     ]
    },
    {
     "name": "stderr",
     "output_type": "stream",
     "text": [
      "\n"
     ]
    }
   ],
   "source": [
    "train_evals, train_stars = model_predict(model_loaded, BatchSize, train_input_ids, train_attention_masks, train_type_ids)"
   ]
  },
  {
   "cell_type": "code",
   "execution_count": 36,
   "id": "b9a640d7",
   "metadata": {},
   "outputs": [],
   "source": [
    "train_eval = np.argmax(np.concatenate(train_evals, axis=0), axis = 1)+1\n",
    "train_star = np.argmax(np.concatenate(train_stars, axis=0), axis = 1)+1"
   ]
  },
  {
   "cell_type": "code",
   "execution_count": 37,
   "id": "4379c6e5",
   "metadata": {},
   "outputs": [
    {
     "data": {
      "text/plain": [
       "array([[ 70811,   9436,   1061,    117,    283],\n",
       "       [ 16160,  38314,  11519,    693,    352],\n",
       "       [  2199,  12450,  59259,  20325,   3016],\n",
       "       [   369,    674,  10613, 119784,  81442],\n",
       "       [   424,    146,    733,  25235, 314585]])"
      ]
     },
     "execution_count": 37,
     "metadata": {},
     "output_type": "execute_result"
    }
   ],
   "source": [
    "confusion_matrix(train_star, train_eval)"
   ]
  },
  {
   "cell_type": "code",
   "execution_count": 38,
   "id": "2b10be61",
   "metadata": {},
   "outputs": [
    {
     "name": "stdout",
     "output_type": "stream",
     "text": [
      "              precision    recall  f1-score   support\n",
      "\n",
      "           1     0.7871    0.8666    0.8250     81708\n",
      "           2     0.6279    0.5715    0.5984     67038\n",
      "           3     0.7124    0.6094    0.6568     97249\n",
      "           4     0.7209    0.5627    0.6320    212882\n",
      "           5     0.7871    0.9222    0.8493    341123\n",
      "\n",
      "    accuracy                         0.7534    800000\n",
      "   macro avg     0.7271    0.7065    0.7123    800000\n",
      "weighted avg     0.7471    0.7534    0.7446    800000\n",
      "\n"
     ]
    }
   ],
   "source": [
    "print(classification_report(train_star, train_eval, digits = 4))"
   ]
  },
  {
   "cell_type": "code",
   "execution_count": 39,
   "id": "e430ff52",
   "metadata": {},
   "outputs": [
    {
     "name": "stdout",
     "output_type": "stream",
     "text": [
      "Predicting labels for 25,000 test sentences...\n"
     ]
    },
    {
     "name": "stderr",
     "output_type": "stream",
     "text": [
      "100%|███████████████████████████████████| 25000/25000 [1:55:30<00:00,  3.61it/s]"
     ]
    },
    {
     "name": "stdout",
     "output_type": "stream",
     "text": [
      "Total testing took: 1:55:30\n"
     ]
    },
    {
     "name": "stderr",
     "output_type": "stream",
     "text": [
      "\n"
     ]
    }
   ],
   "source": [
    "val_evals, val_stars = model_predict(model_loaded, BatchSize, val_input_ids, val_attention_masks, val_type_ids)"
   ]
  },
  {
   "cell_type": "code",
   "execution_count": 40,
   "id": "5e619123",
   "metadata": {},
   "outputs": [],
   "source": [
    "val_eval = np.argmax(np.concatenate(val_evals, axis=0), axis = 1)+1\n",
    "val_star = np.argmax(np.concatenate(val_stars, axis=0), axis = 1)+1"
   ]
  },
  {
   "cell_type": "code",
   "execution_count": 41,
   "id": "0dbc7cb4",
   "metadata": {},
   "outputs": [
    {
     "data": {
      "text/plain": [
       "array([[17218,  2691,   351,    50,   117],\n",
       "       [ 4512,  8627,  3269,   234,   118],\n",
       "       [  668,  3534, 13770,  5421,   919],\n",
       "       [  148,   177,  3194, 28112, 21589],\n",
       "       [  162,    68,   266,  7450, 77335]])"
      ]
     },
     "execution_count": 41,
     "metadata": {},
     "output_type": "execute_result"
    }
   ],
   "source": [
    "confusion_matrix(val_star, val_eval)"
   ]
  },
  {
   "cell_type": "code",
   "execution_count": 42,
   "id": "28897dcc",
   "metadata": {},
   "outputs": [
    {
     "name": "stdout",
     "output_type": "stream",
     "text": [
      "              precision    recall  f1-score   support\n",
      "\n",
      "           1     0.7582    0.8429    0.7983     20427\n",
      "           2     0.5714    0.5147    0.5416     16760\n",
      "           3     0.6604    0.5664    0.6098     24312\n",
      "           4     0.6812    0.5282    0.5950     53220\n",
      "           5     0.7727    0.9068    0.8344     85281\n",
      "\n",
      "    accuracy                         0.7253    200000\n",
      "   macro avg     0.6888    0.6718    0.6758    200000\n",
      "weighted avg     0.7164    0.7253    0.7152    200000\n",
      "\n"
     ]
    }
   ],
   "source": [
    "print(classification_report(val_star, val_eval, digits = 4))"
   ]
  },
  {
   "cell_type": "code",
   "execution_count": 43,
   "id": "86490a53",
   "metadata": {},
   "outputs": [
    {
     "name": "stdout",
     "output_type": "stream",
     "text": [
      "Predicting labels for 65,575 test sentences...\n"
     ]
    },
    {
     "name": "stderr",
     "output_type": "stream",
     "text": [
      "100%|███████████████████████████████████| 65575/65575 [5:01:36<00:00,  3.62it/s]"
     ]
    },
    {
     "name": "stdout",
     "output_type": "stream",
     "text": [
      "Total testing took: 5:01:36\n"
     ]
    },
    {
     "name": "stderr",
     "output_type": "stream",
     "text": [
      "\n"
     ]
    }
   ],
   "source": [
    "preds, stars = model_predict(model_loaded, BatchSize, test_input_ids, test_attention_masks, test_type_ids)"
   ]
  },
  {
   "cell_type": "code",
   "execution_count": 44,
   "id": "afdf7958",
   "metadata": {},
   "outputs": [],
   "source": [
    "pred = np.argmax(np.concatenate(preds, axis=0), axis = 1)+1\n",
    "star = np.argmax(np.concatenate(stars, axis=0), axis = 1)+1"
   ]
  },
  {
   "cell_type": "code",
   "execution_count": 45,
   "id": "5718a387",
   "metadata": {},
   "outputs": [
    {
     "data": {
      "text/plain": [
       "array([[ 59262,   7452,   1106,    151,    433],\n",
       "       [ 12978,  20244,   6055,    415,    261],\n",
       "       [  2498,  10226,  28506,   7996,   1422],\n",
       "       [   345,    605,   8532,  54913,  36921],\n",
       "       [   480,    188,    812,  21597, 241195]])"
      ]
     },
     "execution_count": 45,
     "metadata": {},
     "output_type": "execute_result"
    }
   ],
   "source": [
    "confusion_matrix(data_test['stars'], pred)"
   ]
  },
  {
   "cell_type": "code",
   "execution_count": 46,
   "id": "29b77db8",
   "metadata": {},
   "outputs": [
    {
     "name": "stdout",
     "output_type": "stream",
     "text": [
      "              precision    recall  f1-score   support\n",
      "\n",
      "           1     0.7843    0.8664    0.8233     68404\n",
      "           2     0.5229    0.5067    0.5147     39953\n",
      "           3     0.6333    0.5628    0.5960     50648\n",
      "           4     0.6455    0.5420    0.5892    101316\n",
      "           5     0.8607    0.9127    0.8859    264272\n",
      "\n",
      "    accuracy                         0.7703    524593\n",
      "   macro avg     0.6893    0.6781    0.6818    524593\n",
      "weighted avg     0.7615    0.7703    0.7642    524593\n",
      "\n"
     ]
    }
   ],
   "source": [
    "print(classification_report(data_test['stars'], pred, digits=4))"
   ]
  },
  {
   "cell_type": "code",
   "execution_count": 47,
   "id": "b1b721e7",
   "metadata": {},
   "outputs": [],
   "source": [
    "data_test['stars_xlnet_512'] = pred"
   ]
  },
  {
   "cell_type": "code",
   "execution_count": 48,
   "id": "849b4b34",
   "metadata": {},
   "outputs": [],
   "source": [
    "data_test.to_json('~/environment/data/restaurant_review_2019_cleaned_xlnet_512_prediction.json')"
   ]
  },
  {
   "cell_type": "code",
   "execution_count": null,
   "id": "25f5f9bd",
   "metadata": {},
   "outputs": [],
   "source": [
    "'''\n",
    "padded_lengths = []\n",
    "\n",
    "for batch in train_input_ids:\n",
    "    for s in batch:\n",
    "        padded_lengths.append(len(s))\n",
    "smart_token_count = np.sum(padded_lengths)\n",
    "\n",
    "fixed_token_count = len(X_train) * MAX_LEN\n",
    "prcnt_reduced = (fixed_token_count - smart_token_count) / float(fixed_token_count) \n",
    "\n",
    "print('Total tokens:')\n",
    "print('   Fixed Padding: {:,}'.format(fixed_token_count))\n",
    "print('  Smart Batching: {:,}  ({:.1%} less)'.format(smart_token_count, prcnt_reduced))\n",
    "'''"
   ]
  }
 ],
 "metadata": {
  "kernelspec": {
   "display_name": "Python 3 (ipykernel)",
   "language": "python",
   "name": "python3"
  },
  "language_info": {
   "codemirror_mode": {
    "name": "ipython",
    "version": 3
   },
   "file_extension": ".py",
   "mimetype": "text/x-python",
   "name": "python",
   "nbconvert_exporter": "python",
   "pygments_lexer": "ipython3",
   "version": "3.9.12"
  }
 },
 "nbformat": 4,
 "nbformat_minor": 5
}
