{
 "cells": [
  {
   "cell_type": "code",
   "execution_count": 1,
   "id": "f791a42c",
   "metadata": {},
   "outputs": [],
   "source": [
    "#general purpose packages\n",
    "import numpy as np\n",
    "import pandas as pd\n",
    "import matplotlib.pyplot as plt\n",
    "import time\n",
    "import datetime\n",
    "import random\n",
    "from tqdm import tqdm\n",
    "import json\n",
    "#data procedding\n",
    "from sklearn.model_selection import train_test_split\n",
    "#transformers\n",
    "from transformers import BertTokenizer\n",
    "from transformers import AutoConfig\n",
    "from transformers import AutoModelForSequenceClassification\n",
    "from transformers import AdamW\n",
    "from transformers import get_linear_schedule_with_warmup\n",
    "#torch\n",
    "from keras.utils import np_utils\n",
    "import torch\n",
    "#metrics\n",
    "from sklearn.metrics import accuracy_score, f1_score\n",
    "from sklearn.metrics import confusion_matrix, classification_report"
   ]
  },
  {
   "cell_type": "code",
   "execution_count": 2,
   "id": "c79a68f2",
   "metadata": {},
   "outputs": [],
   "source": [
    "#set seed for reproducibility\n",
    "seed=321\n",
    "random.seed(seed)\n",
    "np.random.seed(seed)\n",
    "torch.manual_seed(seed)\n",
    "torch.cuda.manual_seed_all(seed)"
   ]
  },
  {
   "cell_type": "code",
   "execution_count": 3,
   "id": "ce51ceff",
   "metadata": {},
   "outputs": [],
   "source": [
    "data = pd.read_json('~/environment/data/sample_1000000_2005_2018_cleaned.json')"
   ]
  },
  {
   "cell_type": "code",
   "execution_count": 4,
   "id": "848259ee",
   "metadata": {},
   "outputs": [
    {
     "data": {
      "text/html": [
       "<div>\n",
       "<style scoped>\n",
       "    .dataframe tbody tr th:only-of-type {\n",
       "        vertical-align: middle;\n",
       "    }\n",
       "\n",
       "    .dataframe tbody tr th {\n",
       "        vertical-align: top;\n",
       "    }\n",
       "\n",
       "    .dataframe thead th {\n",
       "        text-align: right;\n",
       "    }\n",
       "</style>\n",
       "<table border=\"1\" class=\"dataframe\">\n",
       "  <thead>\n",
       "    <tr style=\"text-align: right;\">\n",
       "      <th></th>\n",
       "      <th>index</th>\n",
       "      <th>text</th>\n",
       "      <th>stars</th>\n",
       "      <th>cleaned_text</th>\n",
       "    </tr>\n",
       "  </thead>\n",
       "  <tbody>\n",
       "    <tr>\n",
       "      <th>1105058</th>\n",
       "      <td>2344352</td>\n",
       "      <td>Excellent food and customer service! My mom fo...</td>\n",
       "      <td>5</td>\n",
       "      <td>Excellent food and customer service ! My mom f...</td>\n",
       "    </tr>\n",
       "  </tbody>\n",
       "</table>\n",
       "</div>"
      ],
      "text/plain": [
       "           index                                               text  stars  \\\n",
       "1105058  2344352  Excellent food and customer service! My mom fo...      5   \n",
       "\n",
       "                                              cleaned_text  \n",
       "1105058  Excellent food and customer service ! My mom f...  "
      ]
     },
     "execution_count": 4,
     "metadata": {},
     "output_type": "execute_result"
    }
   ],
   "source": [
    "data.head(1)"
   ]
  },
  {
   "cell_type": "code",
   "execution_count": 5,
   "id": "ce7e917d",
   "metadata": {},
   "outputs": [
    {
     "data": {
      "text/plain": [
       "5    426404\n",
       "4    266102\n",
       "3    121561\n",
       "1    102135\n",
       "2     83798\n",
       "Name: stars, dtype: int64"
      ]
     },
     "execution_count": 5,
     "metadata": {},
     "output_type": "execute_result"
    }
   ],
   "source": [
    "data.stars.value_counts()"
   ]
  },
  {
   "cell_type": "code",
   "execution_count": 4,
   "id": "7adff197",
   "metadata": {},
   "outputs": [
    {
     "data": {
      "text/plain": [
       "(1000000, 5)"
      ]
     },
     "execution_count": 4,
     "metadata": {},
     "output_type": "execute_result"
    }
   ],
   "source": [
    "data['stars_reduce'] = data['stars']-1\n",
    "dummy_y = np_utils.to_categorical(data.stars_reduce)\n",
    "dummy_y.shape"
   ]
  },
  {
   "cell_type": "code",
   "execution_count": 5,
   "id": "c0eefb01",
   "metadata": {},
   "outputs": [],
   "source": [
    "X_train, X_val,Y_train, Y_val = train_test_split(data.cleaned_text, dummy_y, test_size=0.2, \n",
    "                                                 stratify=dummy_y, random_state = seed)"
   ]
  },
  {
   "cell_type": "code",
   "execution_count": 6,
   "id": "d5fbb512",
   "metadata": {},
   "outputs": [],
   "source": [
    "MAX_LEN=512\n",
    "tokenizer = BertTokenizer.from_pretrained(\"bert-base-uncased\")"
   ]
  },
  {
   "cell_type": "code",
   "execution_count": 9,
   "id": "2d1280eb",
   "metadata": {},
   "outputs": [],
   "source": [
    "def tokenize(data,max_len=MAX_LEN) :\n",
    "    input_ids = []\n",
    "    labels = []\n",
    "    \n",
    "    for sent in data:\n",
    "        encoded = tokenizer.encode(\n",
    "            text=sent,\n",
    "            add_special_tokens=True,\n",
    "            truncation=True,\n",
    "            max_length=MAX_LEN,\n",
    "            padding=False\n",
    "        )\n",
    "        input_ids.append(encoded)\n",
    "    return input_ids"
   ]
  },
  {
   "cell_type": "code",
   "execution_count": 10,
   "id": "92ceedb7",
   "metadata": {},
   "outputs": [],
   "source": [
    "train_ids = tokenize(X_train, MAX_LEN)\n",
    "val_ids = tokenize(X_val, MAX_LEN)"
   ]
  },
  {
   "cell_type": "code",
   "execution_count": 11,
   "id": "8d34244f",
   "metadata": {},
   "outputs": [],
   "source": [
    "#sort by length\n",
    "train_samples = sorted(zip(train_ids, Y_train), key=lambda x: len(x[0]))\n",
    "val_samples = sorted(zip(val_ids, Y_val), key=lambda x: len(x[0]))"
   ]
  },
  {
   "cell_type": "code",
   "execution_count": 12,
   "id": "2258304a",
   "metadata": {},
   "outputs": [
    {
     "name": "stdout",
     "output_type": "stream",
     "text": [
      "Shortest sample: 3\n",
      "Longest sample: 512\n"
     ]
    }
   ],
   "source": [
    "print('Shortest sample:', len(train_samples[0][0]))\n",
    "print('Longest sample:', len(train_samples[-1][0]))"
   ]
  },
  {
   "cell_type": "code",
   "execution_count": 13,
   "id": "274a767d",
   "metadata": {},
   "outputs": [],
   "source": [
    "def select_batches(samples, batch_size):\n",
    "    batch_ordered_sentences = []\n",
    "    batch_ordered_labels = []\n",
    "    text_data = samples.copy()\n",
    "    while len(text_data) > 0:\n",
    "        to_take = min(batch_size, len(text_data))\n",
    "        select = random.randint(0, len(text_data) - to_take)\n",
    "        batch = text_data[select:(select + to_take)]\n",
    "        batch_ordered_sentences.append([s[0] for s in batch])\n",
    "        batch_ordered_labels.append([s[1] for s in batch])\n",
    "        del text_data[select:select + to_take]\n",
    "    # print('\\n  DONE - {:,} batches.'.format(len(batch_ordered_sentences)))\n",
    "    return batch_ordered_sentences, batch_ordered_labels"
   ]
  },
  {
   "cell_type": "code",
   "execution_count": 14,
   "id": "f6b7747b",
   "metadata": {},
   "outputs": [],
   "source": [
    "def add_padding(batch_ordered_sentences, batch_ordered_labels):\n",
    "    py_inputs = []\n",
    "    py_attn_masks = []\n",
    "    py_labels = []\n",
    "    for (batch_inputs, batch_labels) in zip(batch_ordered_sentences, batch_ordered_labels):\n",
    "        batch_padded_inputs = []\n",
    "        batch_attn_masks = []\n",
    "\n",
    "        max_size = max([len(sen) for sen in batch_inputs])\n",
    "        for sen in batch_inputs:\n",
    "            num_pads = max_size - len(sen)\n",
    "            padded_input = sen + [tokenizer.pad_token_id]*num_pads\n",
    "            attn_mask = [1] * len(sen) + [0] * num_pads\n",
    "            batch_padded_inputs.append(padded_input)\n",
    "            batch_attn_masks.append(attn_mask)\n",
    "\n",
    "        py_inputs.append(torch.tensor(batch_padded_inputs))\n",
    "        py_attn_masks.append(torch.tensor(batch_attn_masks))\n",
    "        py_labels.append(torch.tensor(batch_labels))\n",
    "    return py_inputs,py_attn_masks,py_labels"
   ]
  },
  {
   "cell_type": "code",
   "execution_count": 15,
   "id": "2408a546",
   "metadata": {},
   "outputs": [],
   "source": [
    "def flat_accuracy(preds, labels):\n",
    "    pred = np.argmax(preds, axis=1)+1\n",
    "    label = np.argmax(labels, axis=1)+1\n",
    "    # print('preds_flat ', pred)\n",
    "    # print('labels_flat ', label)\n",
    "    return np.sum(pred == label) / len(label)"
   ]
  },
  {
   "cell_type": "code",
   "execution_count": 7,
   "id": "9c65384d",
   "metadata": {},
   "outputs": [
    {
     "name": "stdout",
     "output_type": "stream",
     "text": [
      "Config type: <class 'transformers.models.bert.configuration_bert.BertConfig'> \n",
      "\n"
     ]
    }
   ],
   "source": [
    "config = AutoConfig.from_pretrained(pretrained_model_name_or_path='bert-base-uncased',num_labels=5)\n",
    "print('Config type:', str(type(config)), '\\n')"
   ]
  },
  {
   "cell_type": "code",
   "execution_count": 18,
   "id": "76fae7bc",
   "metadata": {},
   "outputs": [
    {
     "name": "stderr",
     "output_type": "stream",
     "text": [
      "Some weights of the model checkpoint at bert-base-uncased were not used when initializing BertForSequenceClassification: ['cls.predictions.transform.dense.bias', 'cls.predictions.decoder.weight', 'cls.predictions.bias', 'cls.predictions.transform.LayerNorm.weight', 'cls.predictions.transform.LayerNorm.bias', 'cls.seq_relationship.bias', 'cls.seq_relationship.weight', 'cls.predictions.transform.dense.weight']\n",
      "- This IS expected if you are initializing BertForSequenceClassification from the checkpoint of a model trained on another task or with another architecture (e.g. initializing a BertForSequenceClassification model from a BertForPreTraining model).\n",
      "- This IS NOT expected if you are initializing BertForSequenceClassification from the checkpoint of a model that you expect to be exactly identical (initializing a BertForSequenceClassification model from a BertForSequenceClassification model).\n",
      "Some weights of BertForSequenceClassification were not initialized from the model checkpoint at bert-base-uncased and are newly initialized: ['classifier.weight', 'classifier.bias']\n",
      "You should probably TRAIN this model on a down-stream task to be able to use it for predictions and inference.\n"
     ]
    },
    {
     "name": "stdout",
     "output_type": "stream",
     "text": [
      "\n",
      "Model type: <class 'transformers.models.bert.modeling_bert.BertForSequenceClassification'>\n"
     ]
    }
   ],
   "source": [
    "model = AutoModelForSequenceClassification.from_pretrained(pretrained_model_name_or_path='bert-base-uncased',config=config)\n",
    "print('\\nModel type:', str(type(model)))"
   ]
  },
  {
   "cell_type": "code",
   "execution_count": 19,
   "id": "82824994",
   "metadata": {},
   "outputs": [
    {
     "name": "stdout",
     "output_type": "stream",
     "text": [
      "\n",
      "Loading model to GPU...\n",
      "  GPU: Tesla V100-PCIE-16GB\n",
      "    DONE.\n"
     ]
    }
   ],
   "source": [
    "print('\\nLoading model to GPU...')\n",
    "device = torch.device('cuda')\n",
    "print('  GPU:', torch.cuda.get_device_name(0))\n",
    "desc = model.to(device)\n",
    "print('    DONE.')"
   ]
  },
  {
   "cell_type": "code",
   "execution_count": 20,
   "id": "52fea813",
   "metadata": {},
   "outputs": [],
   "source": [
    "BatchSize=8\n",
    "Epochs=2\n",
    "TotalSteps = len(train_ids) * Epochs\n",
    "optimizer = torch.optim.AdamW(model.parameters(), lr = 2e-5)\n",
    "scheduler = get_linear_schedule_with_warmup(optimizer, \n",
    "                                            num_warmup_steps = 0,\n",
    "                                            num_training_steps = TotalSteps)"
   ]
  },
  {
   "cell_type": "code",
   "execution_count": 20,
   "id": "182bc837",
   "metadata": {},
   "outputs": [],
   "source": [
    "def model_train(model, epochs, batch_size, train_data, val_data):\n",
    "    # store evaluation metrics\n",
    "    training_stats = []\n",
    "    total_t0 = time.time()\n",
    "\n",
    "    for epoch_i in range(0, epochs):\n",
    "    # ========================================\n",
    "    #               Training\n",
    "    # ========================================\n",
    "        print(\"\")\n",
    "        print('======== Epoch {:} / {:} ========'.format(epoch_i + 1, epochs))\n",
    "        train_sentences, train_labels = select_batches(train_data, batch_size)\n",
    "        train_input_ids, train_attention_masks, train_type_ids = add_padding(train_sentences, train_labels)\n",
    "\n",
    "        \n",
    "        print('Training on {:,} batches...'.format(len(train_input_ids)))\n",
    "        t0 = time.time()\n",
    "        total_train_accuracy = 0\n",
    "        total_train_loss = 0\n",
    "        model.train()\n",
    "        for step in tqdm(range(0, len(train_input_ids))):\n",
    "            b_input_ids = train_input_ids[step].to(device)\n",
    "            b_input_mask = train_attention_masks[step].to(device)\n",
    "            b_labels = train_type_ids[step].to(device)\n",
    "            model.zero_grad()\n",
    "            result = model(b_input_ids, \n",
    "                           token_type_ids=None, \n",
    "                           attention_mask=b_input_mask, \n",
    "                           labels=b_labels,\n",
    "                           return_dict = True)\n",
    "            loss = result.loss\n",
    "            total_train_loss += loss.item()\n",
    "            logits = result.logits.detach().cpu().numpy()\n",
    "            label_ids = b_labels.to('cpu').numpy()\n",
    "            # print('logits ', logits)\n",
    "            # print('label_ids ', label_ids)\n",
    "            total_train_accuracy += flat_accuracy(logits, label_ids)\n",
    "            loss.backward()\n",
    "            torch.nn.utils.clip_grad_norm_(model.parameters(), 1.0)\n",
    "            optimizer.step()\n",
    "            scheduler.step()\n",
    "        avg_train_loss = total_train_loss / len(train_input_ids)\n",
    "        avg_train_accuracy = total_train_accuracy / len(train_input_ids)\n",
    "        training_time = str(datetime.timedelta(seconds = int(round(time.time() - t0))))\n",
    "        print(\"\")\n",
    "        print(\"  Average training loss: {0:.4f}\".format(avg_train_loss))\n",
    "        print(\"  Average training accuracy: {0:.4f}\".format(avg_train_accuracy))\n",
    "        print(\"  Training epcoh {} took: {:}\".format(epoch_i + 1, training_time))\n",
    "    # ========================================\n",
    "    #               Validation\n",
    "    # ========================================\n",
    "        val_sentences, val_labels = select_batches(val_data, batch_size)\n",
    "        val_input_ids, val_attention_masks, val_type_ids = add_padding(val_sentences, val_labels)\n",
    "        print('Validating on {:,} batches...'.format(len(val_input_ids)))\n",
    "        t0 = time.time()\n",
    "        total_val_accuracy = 0\n",
    "        total_val_loss = 0\n",
    "        model.eval()\n",
    "        for step in tqdm(range(0, len(val_input_ids))):\n",
    "            b_input_ids = val_input_ids[step].to(device)\n",
    "            b_input_mask = val_attention_masks[step].to(device)\n",
    "            b_labels = val_type_ids[step].to(device)\n",
    "            with torch.no_grad():  \n",
    "                val_result = model(b_input_ids, \n",
    "                                       token_type_ids=None, \n",
    "                                       attention_mask=b_input_mask, \n",
    "                                       labels=b_labels)\n",
    "            logits = val_result.logits.detach().cpu().numpy()\n",
    "            label_ids = b_labels.to('cpu').numpy()\n",
    "            loss = val_result.loss\n",
    "            total_val_loss += loss.item()\n",
    "            total_val_accuracy += flat_accuracy(logits, label_ids)\n",
    "        avg_val_accuracy = total_val_accuracy / len(val_input_ids)\n",
    "        avg_val_loss = total_val_loss / len(val_input_ids)\n",
    "        val_time = str(datetime.timedelta(seconds = int(round(time.time() - t0))))\n",
    "        print(\"\")\n",
    "        print(\"  Average validation loss: {0:.4f}\".format(avg_val_loss))\n",
    "        print(\"  Average validation accuracy: {0:.4f}\".format(avg_val_accuracy))\n",
    "        print(\"  Validation epcoh {} took: {:}\".format(epoch_i + 1, val_time))\n",
    "        torch.save(model.state_dict(), '/home/ubuntu/environment/model/bert_512_2005_2018_{}'.format(epoch_i + 1))\n",
    "        training_stats.append(\n",
    "            {\n",
    "                'epoch': epoch_i + 1,\n",
    "                'Training Loss': avg_train_loss,\n",
    "                'Training Accuracy':avg_train_accuracy,\n",
    "                'Training Time': training_time,\n",
    "                'Validation Loss':avg_val_loss,\n",
    "                'Validation Accuracy':avg_val_accuracy,\n",
    "                'Validation Time': val_time,\n",
    "            }\n",
    "        )\n",
    "    print(\"\")\n",
    "    print(\"Training complete!\")\n",
    "    total_time = str(datetime.timedelta(seconds = int(round(time.time() - total_t0))))\n",
    "    print(\"Total training took: {:}\".format(total_time))\n",
    "    return training_stats"
   ]
  },
  {
   "cell_type": "code",
   "execution_count": 21,
   "id": "06840cf0",
   "metadata": {},
   "outputs": [
    {
     "name": "stdout",
     "output_type": "stream",
     "text": [
      "\n",
      "======== Epoch 1 / 2 ========\n"
     ]
    },
    {
     "name": "stderr",
     "output_type": "stream",
     "text": [
      "/tmp/ipykernel_848187/101667468.py:19: UserWarning: Creating a tensor from a list of numpy.ndarrays is extremely slow. Please consider converting the list to a single numpy.ndarray with numpy.array() before converting to a tensor. (Triggered internally at  ../torch/csrc/utils/tensor_new.cpp:210.)\n",
      "  py_labels.append(torch.tensor(batch_labels))\n"
     ]
    },
    {
     "name": "stdout",
     "output_type": "stream",
     "text": [
      "Training on 100,000 batches...\n"
     ]
    },
    {
     "name": "stderr",
     "output_type": "stream",
     "text": [
      "100%|█████████████████████████████████| 100000/100000 [2:44:17<00:00, 10.14it/s]\n"
     ]
    },
    {
     "name": "stdout",
     "output_type": "stream",
     "text": [
      "\n",
      "  Average training loss: 0.2478\n",
      "  Average training accuracy: 0.7066\n",
      "  Training epcoh 1 took: 2:44:17\n",
      "Validating on 25,000 batches...\n"
     ]
    },
    {
     "name": "stderr",
     "output_type": "stream",
     "text": [
      "100%|█████████████████████████████████████| 25000/25000 [09:13<00:00, 45.19it/s]\n"
     ]
    },
    {
     "name": "stdout",
     "output_type": "stream",
     "text": [
      "\n",
      "  Average validation loss: 0.2348\n",
      "  Average validation accuracy: 0.7225\n",
      "  Validation epcoh 1 took: 0:09:13\n",
      "\n",
      "======== Epoch 2 / 2 ========\n",
      "Training on 100,000 batches...\n"
     ]
    },
    {
     "name": "stderr",
     "output_type": "stream",
     "text": [
      "100%|█████████████████████████████████| 100000/100000 [2:45:49<00:00, 10.05it/s]\n"
     ]
    },
    {
     "name": "stdout",
     "output_type": "stream",
     "text": [
      "\n",
      "  Average training loss: 0.2285\n",
      "  Average training accuracy: 0.7355\n",
      "  Training epcoh 2 took: 2:45:50\n",
      "Validating on 25,000 batches...\n"
     ]
    },
    {
     "name": "stderr",
     "output_type": "stream",
     "text": [
      "100%|█████████████████████████████████████| 25000/25000 [09:13<00:00, 45.16it/s]\n"
     ]
    },
    {
     "name": "stdout",
     "output_type": "stream",
     "text": [
      "\n",
      "  Average validation loss: 0.2373\n",
      "  Average validation accuracy: 0.7254\n",
      "  Validation epcoh 2 took: 0:09:14\n",
      "\n",
      "Training complete!\n",
      "Total training took: 5:49:33\n"
     ]
    }
   ],
   "source": [
    "history_bert = model_train(model, Epochs, BatchSize, train_samples, val_samples)"
   ]
  },
  {
   "cell_type": "code",
   "execution_count": null,
   "id": "b8b10dec",
   "metadata": {},
   "outputs": [],
   "source": [
    "#torch.save(model.state_dict(), '/home/ubuntu/environment/model/bert_512_2005_2018')"
   ]
  },
  {
   "cell_type": "code",
   "execution_count": null,
   "id": "4626875a",
   "metadata": {},
   "outputs": [],
   "source": [
    "training_stats = []\n",
    "training_stats.append(\n",
    "    {\n",
    "        'epoch': 1,\n",
    "        'Training Loss': 0.2478,\n",
    "        'Training Accuracy':0.7066,\n",
    "        'Training Time': '2:44:17',\n",
    "        'Validation Loss':0.2348,\n",
    "        'Validation Accuracy':0.7225,\n",
    "        'Validation Time': '0:09:13',\n",
    "    }\n",
    ")\n",
    "training_stats.append(\n",
    "    {\n",
    "        'epoch': 2,\n",
    "        'Training Loss': 0.2285,\n",
    "        'Training Accuracy':0.7355,\n",
    "        'Training Time': '2:45:50',\n",
    "        'Validation Loss':0.2373,\n",
    "        'Validation Accuracy':0.7254,\n",
    "        'Validation Time': '0:09:14',\n",
    "    }\n",
    ")"
   ]
  },
  {
   "cell_type": "code",
   "execution_count": 22,
   "id": "3212e852",
   "metadata": {},
   "outputs": [],
   "source": [
    "with open(\"/home/ubuntu/environment/performance/bert_512_history.json\", 'w') as f:\n",
    "    json.dump(history_bert, f, indent=2) "
   ]
  },
  {
   "cell_type": "code",
   "execution_count": 23,
   "id": "a258b0d2",
   "metadata": {},
   "outputs": [
    {
     "data": {
      "text/html": [
       "<div>\n",
       "<style scoped>\n",
       "    .dataframe tbody tr th:only-of-type {\n",
       "        vertical-align: middle;\n",
       "    }\n",
       "\n",
       "    .dataframe tbody tr th {\n",
       "        vertical-align: top;\n",
       "    }\n",
       "\n",
       "    .dataframe thead th {\n",
       "        text-align: right;\n",
       "    }\n",
       "</style>\n",
       "<table border=\"1\" class=\"dataframe\">\n",
       "  <thead>\n",
       "    <tr style=\"text-align: right;\">\n",
       "      <th></th>\n",
       "      <th>epoch</th>\n",
       "      <th>Training Loss</th>\n",
       "      <th>Training Accuracy</th>\n",
       "      <th>Training Time</th>\n",
       "      <th>Validation Loss</th>\n",
       "      <th>Validation Accuracy</th>\n",
       "      <th>Validation Time</th>\n",
       "    </tr>\n",
       "  </thead>\n",
       "  <tbody>\n",
       "    <tr>\n",
       "      <th>0</th>\n",
       "      <td>1</td>\n",
       "      <td>0.247803</td>\n",
       "      <td>0.706586</td>\n",
       "      <td>2:44:17</td>\n",
       "      <td>0.234805</td>\n",
       "      <td>0.722465</td>\n",
       "      <td>0:09:13</td>\n",
       "    </tr>\n",
       "    <tr>\n",
       "      <th>1</th>\n",
       "      <td>2</td>\n",
       "      <td>0.228539</td>\n",
       "      <td>0.735509</td>\n",
       "      <td>2:45:50</td>\n",
       "      <td>0.237293</td>\n",
       "      <td>0.725420</td>\n",
       "      <td>0:09:14</td>\n",
       "    </tr>\n",
       "  </tbody>\n",
       "</table>\n",
       "</div>"
      ],
      "text/plain": [
       "   epoch  Training Loss  Training Accuracy Training Time  Validation Loss  \\\n",
       "0      1       0.247803           0.706586       2:44:17         0.234805   \n",
       "1      2       0.228539           0.735509       2:45:50         0.237293   \n",
       "\n",
       "   Validation Accuracy Validation Time  \n",
       "0             0.722465         0:09:13  \n",
       "1             0.725420         0:09:14  "
      ]
     },
     "execution_count": 23,
     "metadata": {},
     "output_type": "execute_result"
    }
   ],
   "source": [
    "history = pd.DataFrame.from_records(history_bert)\n",
    "history"
   ]
  },
  {
   "cell_type": "code",
   "execution_count": 24,
   "id": "871376ba",
   "metadata": {},
   "outputs": [
    {
     "data": {
      "text/plain": [
       "Text(0.5, 1.0, 'Accuracy')"
      ]
     },
     "execution_count": 24,
     "metadata": {},
     "output_type": "execute_result"
    },
    {
     "data": {
      "image/png": "[encoded data removed]",
      "text/plain": [
       "<Figure size 432x288 with 1 Axes>"
      ]
     },
     "metadata": {
      "needs_background": "light"
     },
     "output_type": "display_data"
    }
   ],
   "source": [
    "#plot accuracy\n",
    "# plt.figure(figsize=(15, 7))\n",
    "plt.plot(range(1, Epochs+1), history['Training Accuracy'])\n",
    "plt.plot(range(1, Epochs+1), history['Validation Accuracy'])\n",
    "plt.legend(['training_acc', 'validation_acc'])\n",
    "plt.title('Accuracy')"
   ]
  },
  {
   "cell_type": "code",
   "execution_count": 25,
   "id": "0176dd63",
   "metadata": {},
   "outputs": [
    {
     "data": {
      "text/plain": [
       "Text(0.5, 1.0, 'Loss')"
      ]
     },
     "execution_count": 25,
     "metadata": {},
     "output_type": "execute_result"
    },
    {
     "data": {
      "image/png": "[encoded data removed]",
      "text/plain": [
       "<Figure size 432x288 with 1 Axes>"
      ]
     },
     "metadata": {
      "needs_background": "light"
     },
     "output_type": "display_data"
    }
   ],
   "source": [
    "#plot loss\n",
    "#plt.figure(figsize=(15, 7))\n",
    "plt.plot(range(1, Epochs+1), history['Training Loss'])\n",
    "plt.plot(range(1, Epochs+1), history['Validation Loss'])\n",
    "plt.legend(['training_loss', 'validation_loss'])\n",
    "plt.title('Loss')"
   ]
  },
  {
   "cell_type": "code",
   "execution_count": 8,
   "id": "024296c8",
   "metadata": {
    "scrolled": true
   },
   "outputs": [
    {
     "name": "stderr",
     "output_type": "stream",
     "text": [
      "Some weights of the model checkpoint at bert-base-uncased were not used when initializing BertForSequenceClassification: ['cls.seq_relationship.weight', 'cls.predictions.decoder.weight', 'cls.predictions.transform.LayerNorm.weight', 'cls.predictions.bias', 'cls.predictions.transform.dense.weight', 'cls.predictions.transform.LayerNorm.bias', 'cls.seq_relationship.bias', 'cls.predictions.transform.dense.bias']\n",
      "- This IS expected if you are initializing BertForSequenceClassification from the checkpoint of a model trained on another task or with another architecture (e.g. initializing a BertForSequenceClassification model from a BertForPreTraining model).\n",
      "- This IS NOT expected if you are initializing BertForSequenceClassification from the checkpoint of a model that you expect to be exactly identical (initializing a BertForSequenceClassification model from a BertForSequenceClassification model).\n",
      "Some weights of BertForSequenceClassification were not initialized from the model checkpoint at bert-base-uncased and are newly initialized: ['classifier.bias', 'classifier.weight']\n",
      "You should probably TRAIN this model on a down-stream task to be able to use it for predictions and inference.\n"
     ]
    }
   ],
   "source": [
    "model_loaded = AutoModelForSequenceClassification.from_pretrained(pretrained_model_name_or_path='bert-base-uncased',config=config)\n",
    "model_loaded.load_state_dict(torch.load('/home/ubuntu/environment/model/bert_512_2005_2018_2'))\n",
    "device = torch.device('cuda')\n",
    "desc = model_loaded.to(device)"
   ]
  },
  {
   "cell_type": "code",
   "execution_count": 9,
   "id": "3e96073d",
   "metadata": {},
   "outputs": [],
   "source": [
    "data_test= pd.read_json('~/environment/data/restaurant_review_2019_cleaned.json')"
   ]
  },
  {
   "cell_type": "code",
   "execution_count": 10,
   "id": "efc13136",
   "metadata": {},
   "outputs": [],
   "source": [
    "test_star_reduce = data_test['stars']-1\n",
    "dummy_test_y = np_utils.to_categorical(test_star_reduce)"
   ]
  },
  {
   "cell_type": "code",
   "execution_count": 11,
   "id": "b6e8a2dc",
   "metadata": {},
   "outputs": [],
   "source": [
    "MAX_LEN=512\n",
    "tokenizer = BertTokenizer.from_pretrained(\"bert-base-uncased\")\n",
    "BatchSize=8"
   ]
  },
  {
   "cell_type": "code",
   "execution_count": 12,
   "id": "252c0651",
   "metadata": {},
   "outputs": [],
   "source": [
    "def fixed_padding(tokenizer, train_text, train_labels, batch_size, max_len):\n",
    "    t0 = time.time()\n",
    "    batches_input_ids = []\n",
    "    batches_attention_masks = []\n",
    "    batches_labels = []\n",
    "    for i in tqdm(range(0, len(train_text), batch_size)):\n",
    "        encoded_dict = tokenizer.batch_encode_plus(\n",
    "            train_text[i:i+batch_size], # Batch of sentences to encode.\n",
    "            add_special_tokens = True,  # Add '[CLS]' and '[SEP]'\n",
    "            max_length = max_len,           # Pad & truncate all sentences.\n",
    "            padding = 'max_length',     # Pad all to the `max_length` parameter.\n",
    "            truncation = True,\n",
    "            return_attention_mask = True,   # Construct attn. masks.\n",
    "            return_tensors = 'pt',     # Return pytorch tensors.\n",
    "        )\n",
    "        batches_input_ids.append(encoded_dict['input_ids'])\n",
    "        batches_attention_masks.append(encoded_dict['attention_mask'])\n",
    "        batches_labels.append(torch.tensor(train_labels[i:i+batch_size]))\n",
    "            \n",
    "    pad_time = str(datetime.timedelta(seconds = int(round(time.time() - t0))))\n",
    "    print(\"Total padding took: {:}\".format(pad_time))\n",
    "    return batches_input_ids,batches_attention_masks,batches_labels"
   ]
  },
  {
   "cell_type": "code",
   "execution_count": 13,
   "id": "749587d8",
   "metadata": {},
   "outputs": [
    {
     "name": "stderr",
     "output_type": "stream",
     "text": [
      "100%|███████████████████████████████████| 100000/100000 [25:42<00:00, 64.84it/s]\n"
     ]
    }
   ],
   "source": [
    "train_input_ids, train_attention_masks, train_type_ids = fixed_padding(tokenizer, \n",
    "                                                                    X_train,\n",
    "                                                                    Y_train,\n",
    "                                                                    BatchSize, MAX_LEN)"
   ]
  },
  {
   "cell_type": "code",
   "execution_count": 14,
   "id": "e085666d",
   "metadata": {},
   "outputs": [
    {
     "name": "stderr",
     "output_type": "stream",
     "text": [
      "100%|█████████████████████████████████████| 25000/25000 [06:27<00:00, 64.58it/s]\n"
     ]
    }
   ],
   "source": [
    "val_input_ids, val_attention_masks, val_type_ids = fixed_padding(tokenizer, \n",
    "                                                                    X_val,\n",
    "                                                                    Y_val,\n",
    "                                                                    BatchSize, MAX_LEN)"
   ]
  },
  {
   "cell_type": "code",
   "execution_count": 15,
   "id": "38e758d2",
   "metadata": {},
   "outputs": [
    {
     "name": "stderr",
     "output_type": "stream",
     "text": [
      "100%|█████████████████████████████████████| 65575/65575 [15:12<00:00, 71.88it/s]\n"
     ]
    }
   ],
   "source": [
    "test_input_ids, test_attention_masks, test_type_ids = fixed_padding(tokenizer, \n",
    "                                                                    data_test.cleaned_text,\n",
    "                                                                    dummy_test_y,\n",
    "                                                                    BatchSize, MAX_LEN)"
   ]
  },
  {
   "cell_type": "code",
   "execution_count": 16,
   "id": "37bd6a7f",
   "metadata": {},
   "outputs": [],
   "source": [
    "def model_predict(model, batch_size, test_input_ids, test_attention_masks, test_type_ids):\n",
    "    t0 = time.time()\n",
    "    predictions , true_labels = [], []\n",
    "    \n",
    "    print('Predicting labels for {:,} test sentences...'.format(len(test_input_ids)))\n",
    "    model.eval()\n",
    "    for step in tqdm(range(0, len(test_input_ids))):\n",
    "        b_input_ids = test_input_ids[step].to(device)\n",
    "        b_input_mask = test_attention_masks[step].to(device)\n",
    "        b_labels = test_type_ids[step].to(device)\n",
    "        with torch.no_grad():  \n",
    "            outputs = model(b_input_ids, \n",
    "                                   token_type_ids=None, \n",
    "                                   attention_mask=b_input_mask)\n",
    "        logits = outputs[0]\n",
    "        logits = logits.detach().cpu().numpy()\n",
    "        label_ids = b_labels.to('cpu').numpy()\n",
    "        predictions.append(logits)\n",
    "        true_labels.append(label_ids)\n",
    "    test_time = str(datetime.timedelta(seconds = int(round(time.time() - t0))))\n",
    "    print(\"Total testing took: {:}\".format(test_time))\n",
    "    return predictions, true_labels"
   ]
  },
  {
   "cell_type": "code",
   "execution_count": 17,
   "id": "d657eca3",
   "metadata": {},
   "outputs": [
    {
     "name": "stdout",
     "output_type": "stream",
     "text": [
      "Predicting labels for 100,000 test sentences...\n"
     ]
    },
    {
     "name": "stderr",
     "output_type": "stream",
     "text": [
      "100%|█████████████████████████████████| 100000/100000 [2:21:14<00:00, 11.80it/s]"
     ]
    },
    {
     "name": "stdout",
     "output_type": "stream",
     "text": [
      "Total testing took: 2:21:14\n"
     ]
    },
    {
     "name": "stderr",
     "output_type": "stream",
     "text": [
      "\n"
     ]
    }
   ],
   "source": [
    "train_evals, train_stars = model_predict(model_loaded, BatchSize, train_input_ids, train_attention_masks, train_type_ids)"
   ]
  },
  {
   "cell_type": "code",
   "execution_count": 18,
   "id": "2037b371",
   "metadata": {},
   "outputs": [],
   "source": [
    "train_eval = np.argmax(np.concatenate(train_evals, axis=0), axis = 1)+1\n",
    "train_star = np.argmax(np.concatenate(train_stars, axis=0), axis = 1)+1"
   ]
  },
  {
   "cell_type": "code",
   "execution_count": 19,
   "id": "b96aedbd",
   "metadata": {},
   "outputs": [
    {
     "data": {
      "text/plain": [
       "array([[ 70362,  10267,    792,     76,    211],\n",
       "       [ 14291,  42513,   9357,    603,    274],\n",
       "       [  2071,  13933,  59935,  18667,   2643],\n",
       "       [   400,    666,  10740, 118856,  82220],\n",
       "       [   373,    123,    622,  21236, 318769]])"
      ]
     },
     "execution_count": 19,
     "metadata": {},
     "output_type": "execute_result"
    }
   ],
   "source": [
    "confusion_matrix(train_star, train_eval)"
   ]
  },
  {
   "cell_type": "code",
   "execution_count": 20,
   "id": "7ff88829",
   "metadata": {},
   "outputs": [
    {
     "name": "stdout",
     "output_type": "stream",
     "text": [
      "              precision    recall  f1-score   support\n",
      "\n",
      "           1     0.8042    0.8611    0.8317     81708\n",
      "           2     0.6298    0.6342    0.6320     67038\n",
      "           3     0.7359    0.6163    0.6708     97249\n",
      "           4     0.7455    0.5583    0.6385    212882\n",
      "           5     0.7888    0.9345    0.8555    341123\n",
      "\n",
      "    accuracy                         0.7630    800000\n",
      "   macro avg     0.7408    0.7209    0.7257    800000\n",
      "weighted avg     0.7591    0.7630    0.7541    800000\n",
      "\n"
     ]
    }
   ],
   "source": [
    "print(classification_report(train_star, train_eval, digits = 4))"
   ]
  },
  {
   "cell_type": "code",
   "execution_count": 21,
   "id": "8105ae23",
   "metadata": {},
   "outputs": [
    {
     "name": "stdout",
     "output_type": "stream",
     "text": [
      "Predicting labels for 25,000 test sentences...\n"
     ]
    },
    {
     "name": "stderr",
     "output_type": "stream",
     "text": [
      "100%|█████████████████████████████████████| 25000/25000 [35:18<00:00, 11.80it/s]"
     ]
    },
    {
     "name": "stdout",
     "output_type": "stream",
     "text": [
      "Total testing took: 0:35:19\n"
     ]
    },
    {
     "name": "stderr",
     "output_type": "stream",
     "text": [
      "\n"
     ]
    }
   ],
   "source": [
    "val_evals, val_stars = model_predict(model_loaded, BatchSize, val_input_ids, val_attention_masks, val_type_ids)"
   ]
  },
  {
   "cell_type": "code",
   "execution_count": 22,
   "id": "47eb9bf8",
   "metadata": {},
   "outputs": [],
   "source": [
    "val_eval = np.argmax(np.concatenate(val_evals, axis=0), axis = 1)+1\n",
    "val_star = np.argmax(np.concatenate(val_stars, axis=0), axis = 1)+1"
   ]
  },
  {
   "cell_type": "code",
   "execution_count": 23,
   "id": "b6a0138a",
   "metadata": {},
   "outputs": [
    {
     "data": {
      "text/plain": [
       "array([[16967,  3013,   299,    41,   107],\n",
       "       [ 4098,  9456,  2875,   218,   113],\n",
       "       [  662,  4035, 13430,  5272,   913],\n",
       "       [  156,   246,  3450, 27160, 22208],\n",
       "       [  176,    64,   249,  6721, 78071]])"
      ]
     },
     "execution_count": 23,
     "metadata": {},
     "output_type": "execute_result"
    }
   ],
   "source": [
    "confusion_matrix(val_star, val_eval)"
   ]
  },
  {
   "cell_type": "code",
   "execution_count": 24,
   "id": "e22d45d0",
   "metadata": {},
   "outputs": [
    {
     "name": "stdout",
     "output_type": "stream",
     "text": [
      "              precision    recall  f1-score   support\n",
      "\n",
      "           1     0.7692    0.8306    0.7987     20427\n",
      "           2     0.5624    0.5642    0.5633     16760\n",
      "           3     0.6615    0.5524    0.6020     24312\n",
      "           4     0.6891    0.5103    0.5864     53220\n",
      "           5     0.7698    0.9155    0.8364     85281\n",
      "\n",
      "    accuracy                         0.7254    200000\n",
      "   macro avg     0.6904    0.6746    0.6774    200000\n",
      "weighted avg     0.7177    0.7254    0.7146    200000\n",
      "\n"
     ]
    }
   ],
   "source": [
    "print(classification_report(val_star, val_eval, digits = 4))"
   ]
  },
  {
   "cell_type": "code",
   "execution_count": 25,
   "id": "86490a53",
   "metadata": {},
   "outputs": [
    {
     "name": "stdout",
     "output_type": "stream",
     "text": [
      "Predicting labels for 65,575 test sentences...\n"
     ]
    },
    {
     "name": "stderr",
     "output_type": "stream",
     "text": [
      "100%|███████████████████████████████████| 65575/65575 [1:32:36<00:00, 11.80it/s]"
     ]
    },
    {
     "name": "stdout",
     "output_type": "stream",
     "text": [
      "Total testing took: 1:32:37\n"
     ]
    },
    {
     "name": "stderr",
     "output_type": "stream",
     "text": [
      "\n"
     ]
    }
   ],
   "source": [
    "preds, stars = model_predict(model_loaded, BatchSize, test_input_ids, test_attention_masks, test_type_ids)"
   ]
  },
  {
   "cell_type": "code",
   "execution_count": 26,
   "id": "afdf7958",
   "metadata": {},
   "outputs": [],
   "source": [
    "pred = np.argmax(np.concatenate(preds, axis=0), axis = 1)+1\n",
    "star = np.argmax(np.concatenate(stars, axis=0), axis = 1)+1"
   ]
  },
  {
   "cell_type": "code",
   "execution_count": 27,
   "id": "5718a387",
   "metadata": {},
   "outputs": [
    {
     "data": {
      "text/plain": [
       "array([[ 58760,   8224,    898,    121,    401],\n",
       "       [ 12030,  21995,   5212,    420,    296],\n",
       "       [  2460,  11468,  27376,   7803,   1541],\n",
       "       [   374,    714,   8593,  53112,  38523],\n",
       "       [   475,    173,    779,  19681, 243164]])"
      ]
     },
     "execution_count": 27,
     "metadata": {},
     "output_type": "execute_result"
    }
   ],
   "source": [
    "confusion_matrix(data_test['stars'], pred)"
   ]
  },
  {
   "cell_type": "code",
   "execution_count": 28,
   "id": "29b77db8",
   "metadata": {},
   "outputs": [
    {
     "name": "stdout",
     "output_type": "stream",
     "text": [
      "              precision    recall  f1-score   support\n",
      "\n",
      "           1     0.7930    0.8590    0.8247     68404\n",
      "           2     0.5166    0.5505    0.5330     39953\n",
      "           3     0.6388    0.5405    0.5855     50648\n",
      "           4     0.6546    0.5242    0.5822    101316\n",
      "           5     0.8564    0.9201    0.8871    264272\n",
      "\n",
      "    accuracy                         0.7709    524593\n",
      "   macro avg     0.6919    0.6789    0.6825    524593\n",
      "weighted avg     0.7623    0.7709    0.7640    524593\n",
      "\n"
     ]
    }
   ],
   "source": [
    "print(classification_report(data_test['stars'], pred, digits=4))"
   ]
  },
  {
   "cell_type": "code",
   "execution_count": 29,
   "id": "b1b721e7",
   "metadata": {},
   "outputs": [],
   "source": [
    "data_test['stars_bert_512'] = pred"
   ]
  },
  {
   "cell_type": "code",
   "execution_count": 30,
   "id": "849b4b34",
   "metadata": {},
   "outputs": [],
   "source": [
    "data_test.to_json('~/environment/data/restaurant_review_2019_cleaned_bert_512_prediction.json')"
   ]
  },
  {
   "cell_type": "code",
   "execution_count": null,
   "id": "ad4128ae",
   "metadata": {},
   "outputs": [],
   "source": []
  }
 ],
 "metadata": {
  "kernelspec": {
   "display_name": "Python 3 (ipykernel)",
   "language": "python",
   "name": "python3"
  },
  "language_info": {
   "codemirror_mode": {
    "name": "ipython",
    "version": 3
   },
   "file_extension": ".py",
   "mimetype": "text/x-python",
   "name": "python",
   "nbconvert_exporter": "python",
   "pygments_lexer": "ipython3",
   "version": "3.9.12"
  }
 },
 "nbformat": 4,
 "nbformat_minor": 5
}
