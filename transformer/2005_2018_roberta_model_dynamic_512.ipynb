{
 "cells": [
  {
   "cell_type": "code",
   "execution_count": 1,
   "id": "f791a42c",
   "metadata": {},
   "outputs": [],
   "source": [
    "#Model: roberta-base\n",
    "#general purpose packages\n",
    "import numpy as np\n",
    "import pandas as pd\n",
    "import matplotlib.pyplot as plt\n",
    "import time\n",
    "import datetime\n",
    "import random\n",
    "from tqdm import tqdm\n",
    "import json\n",
    "#data procedding\n",
    "from sklearn.model_selection import train_test_split\n",
    "#transformers\n",
    "from transformers import RobertaTokenizer\n",
    "from transformers import AutoConfig\n",
    "from transformers import AutoModelForSequenceClassification\n",
    "from transformers import AdamW\n",
    "from transformers import get_linear_schedule_with_warmup\n",
    "#torch\n",
    "from keras.utils import np_utils\n",
    "import torch\n",
    "#metrics\n",
    "from sklearn.metrics import accuracy_score, f1_score\n",
    "from sklearn.metrics import confusion_matrix, classification_report"
   ]
  },
  {
   "cell_type": "code",
   "execution_count": 2,
   "id": "c79a68f2",
   "metadata": {},
   "outputs": [],
   "source": [
    "#set seed for reproducibility\n",
    "seed=321\n",
    "random.seed(seed)\n",
    "np.random.seed(seed)\n",
    "torch.manual_seed(seed)\n",
    "torch.cuda.manual_seed_all(seed)"
   ]
  },
  {
   "cell_type": "code",
   "execution_count": 3,
   "id": "ce51ceff",
   "metadata": {},
   "outputs": [],
   "source": [
    "data = pd.read_json('~/environment/data/sample_1000000_2005_2018_cleaned.json')"
   ]
  },
  {
   "cell_type": "code",
   "execution_count": 4,
   "id": "848259ee",
   "metadata": {},
   "outputs": [
    {
     "data": {
      "text/html": [
       "<div>\n",
       "<style scoped>\n",
       "    .dataframe tbody tr th:only-of-type {\n",
       "        vertical-align: middle;\n",
       "    }\n",
       "\n",
       "    .dataframe tbody tr th {\n",
       "        vertical-align: top;\n",
       "    }\n",
       "\n",
       "    .dataframe thead th {\n",
       "        text-align: right;\n",
       "    }\n",
       "</style>\n",
       "<table border=\"1\" class=\"dataframe\">\n",
       "  <thead>\n",
       "    <tr style=\"text-align: right;\">\n",
       "      <th></th>\n",
       "      <th>index</th>\n",
       "      <th>text</th>\n",
       "      <th>stars</th>\n",
       "      <th>cleaned_text</th>\n",
       "    </tr>\n",
       "  </thead>\n",
       "  <tbody>\n",
       "    <tr>\n",
       "      <th>1105058</th>\n",
       "      <td>2344352</td>\n",
       "      <td>Excellent food and customer service! My mom fo...</td>\n",
       "      <td>5</td>\n",
       "      <td>Excellent food and customer service ! My mom f...</td>\n",
       "    </tr>\n",
       "  </tbody>\n",
       "</table>\n",
       "</div>"
      ],
      "text/plain": [
       "           index                                               text  stars  \\\n",
       "1105058  2344352  Excellent food and customer service! My mom fo...      5   \n",
       "\n",
       "                                              cleaned_text  \n",
       "1105058  Excellent food and customer service ! My mom f...  "
      ]
     },
     "execution_count": 4,
     "metadata": {},
     "output_type": "execute_result"
    }
   ],
   "source": [
    "data.head(1)"
   ]
  },
  {
   "cell_type": "code",
   "execution_count": 5,
   "id": "ce7e917d",
   "metadata": {},
   "outputs": [
    {
     "data": {
      "text/plain": [
       "5    426404\n",
       "4    266102\n",
       "3    121561\n",
       "1    102135\n",
       "2     83798\n",
       "Name: stars, dtype: int64"
      ]
     },
     "execution_count": 5,
     "metadata": {},
     "output_type": "execute_result"
    }
   ],
   "source": [
    "data.stars.value_counts()"
   ]
  },
  {
   "cell_type": "code",
   "execution_count": 6,
   "id": "7adff197",
   "metadata": {},
   "outputs": [
    {
     "data": {
      "text/plain": [
       "(1000000, 5)"
      ]
     },
     "execution_count": 6,
     "metadata": {},
     "output_type": "execute_result"
    }
   ],
   "source": [
    "data['stars_reduce'] = data['stars']-1\n",
    "dummy_y = np_utils.to_categorical(data.stars_reduce)\n",
    "dummy_y.shape"
   ]
  },
  {
   "cell_type": "code",
   "execution_count": 7,
   "id": "c0eefb01",
   "metadata": {},
   "outputs": [],
   "source": [
    "X_train, X_val,Y_train, Y_val = train_test_split(data.cleaned_text, dummy_y, test_size=0.2, \n",
    "                                                 stratify=dummy_y, random_state = seed)"
   ]
  },
  {
   "cell_type": "code",
   "execution_count": 8,
   "id": "d5fbb512",
   "metadata": {},
   "outputs": [],
   "source": [
    "MAX_LEN=512\n",
    "tokenizer_roberta = RobertaTokenizer.from_pretrained(\"roberta-base\")"
   ]
  },
  {
   "cell_type": "code",
   "execution_count": 27,
   "id": "2d1280eb",
   "metadata": {},
   "outputs": [],
   "source": [
    "def tokenize_roberta(data,max_len=MAX_LEN) :\n",
    "    input_ids = []\n",
    "    labels = []\n",
    "    \n",
    "    for sent in data:\n",
    "        encoded = tokenizer_roberta.encode(\n",
    "            text=sent,\n",
    "            add_special_tokens=True,\n",
    "            truncation=True,\n",
    "            max_length=MAX_LEN,\n",
    "            padding=False\n",
    "        )\n",
    "        input_ids.append(encoded)\n",
    "    return input_ids"
   ]
  },
  {
   "cell_type": "code",
   "execution_count": 28,
   "id": "92ceedb7",
   "metadata": {},
   "outputs": [],
   "source": [
    "train_ids = tokenize_roberta(X_train, MAX_LEN)\n",
    "val_ids = tokenize_roberta(X_val, MAX_LEN)"
   ]
  },
  {
   "cell_type": "code",
   "execution_count": 36,
   "id": "8d34244f",
   "metadata": {},
   "outputs": [],
   "source": [
    "#sort by length\n",
    "train_samples = sorted(zip(train_ids, Y_train), key=lambda x: len(x[0]))\n",
    "val_samples = sorted(zip(val_ids, Y_val), key=lambda x: len(x[0]))"
   ]
  },
  {
   "cell_type": "code",
   "execution_count": 37,
   "id": "2258304a",
   "metadata": {},
   "outputs": [
    {
     "name": "stdout",
     "output_type": "stream",
     "text": [
      "Shortest sample: 3\n",
      "Longest sample: 512\n"
     ]
    }
   ],
   "source": [
    "print('Shortest sample:', len(train_samples[0][0]))\n",
    "print('Longest sample:', len(train_samples[-1][0]))"
   ]
  },
  {
   "cell_type": "code",
   "execution_count": 38,
   "id": "274a767d",
   "metadata": {},
   "outputs": [],
   "source": [
    "def select_batches(samples, batch_size):\n",
    "    batch_ordered_sentences = []\n",
    "    batch_ordered_labels = []\n",
    "    text_data = samples.copy()\n",
    "    while len(text_data) > 0:\n",
    "        to_take = min(batch_size, len(text_data))\n",
    "        select = random.randint(0, len(text_data) - to_take)\n",
    "        batch = text_data[select:(select + to_take)]\n",
    "        batch_ordered_sentences.append([s[0] for s in batch])\n",
    "        batch_ordered_labels.append([s[1] for s in batch])\n",
    "        del text_data[select:select + to_take]\n",
    "    # print('\\n  DONE - {:,} batches.'.format(len(batch_ordered_sentences)))\n",
    "    return batch_ordered_sentences, batch_ordered_labels"
   ]
  },
  {
   "cell_type": "code",
   "execution_count": 39,
   "id": "f6b7747b",
   "metadata": {},
   "outputs": [],
   "source": [
    "def add_padding(batch_ordered_sentences, batch_ordered_labels):\n",
    "    py_inputs = []\n",
    "    py_attn_masks = []\n",
    "    py_labels = []\n",
    "    for (batch_inputs, batch_labels) in zip(batch_ordered_sentences, batch_ordered_labels):\n",
    "        batch_padded_inputs = []\n",
    "        batch_attn_masks = []\n",
    "\n",
    "        max_size = max([len(sen) for sen in batch_inputs])\n",
    "        for sen in batch_inputs:\n",
    "            num_pads = max_size - len(sen)\n",
    "            padded_input = sen + [tokenizer_roberta.pad_token_id]*num_pads\n",
    "            attn_mask = [1] * len(sen) + [0] * num_pads\n",
    "            batch_padded_inputs.append(padded_input)\n",
    "            batch_attn_masks.append(attn_mask)\n",
    "\n",
    "        py_inputs.append(torch.tensor(batch_padded_inputs))\n",
    "        py_attn_masks.append(torch.tensor(batch_attn_masks))\n",
    "        py_labels.append(torch.tensor(batch_labels))\n",
    "    return py_inputs,py_attn_masks,py_labels"
   ]
  },
  {
   "cell_type": "code",
   "execution_count": 40,
   "id": "2408a546",
   "metadata": {},
   "outputs": [],
   "source": [
    "def flat_accuracy(preds, labels):\n",
    "    pred = np.argmax(preds, axis=1)+1\n",
    "    label = np.argmax(labels, axis=1)+1\n",
    "    # print('preds_flat ', pred)\n",
    "    # print('labels_flat ', label)\n",
    "    return np.sum(pred == label) / len(label)"
   ]
  },
  {
   "cell_type": "code",
   "execution_count": 9,
   "id": "b8d204c7",
   "metadata": {},
   "outputs": [
    {
     "name": "stdout",
     "output_type": "stream",
     "text": [
      "Config type: <class 'transformers.models.roberta.configuration_roberta.RobertaConfig'> \n",
      "\n"
     ]
    }
   ],
   "source": [
    "config = AutoConfig.from_pretrained(pretrained_model_name_or_path='roberta-base',num_labels=5)\n",
    "print('Config type:', str(type(config)), '\\n')"
   ]
  },
  {
   "cell_type": "code",
   "execution_count": 24,
   "id": "c19d5d43",
   "metadata": {},
   "outputs": [
    {
     "name": "stderr",
     "output_type": "stream",
     "text": [
      "Some weights of the model checkpoint at roberta-base were not used when initializing RobertaForSequenceClassification: ['lm_head.layer_norm.weight', 'lm_head.dense.weight', 'lm_head.layer_norm.bias', 'lm_head.dense.bias', 'roberta.pooler.dense.bias', 'lm_head.decoder.weight', 'roberta.pooler.dense.weight', 'lm_head.bias']\n",
      "- This IS expected if you are initializing RobertaForSequenceClassification from the checkpoint of a model trained on another task or with another architecture (e.g. initializing a BertForSequenceClassification model from a BertForPreTraining model).\n",
      "- This IS NOT expected if you are initializing RobertaForSequenceClassification from the checkpoint of a model that you expect to be exactly identical (initializing a BertForSequenceClassification model from a BertForSequenceClassification model).\n",
      "Some weights of RobertaForSequenceClassification were not initialized from the model checkpoint at roberta-base and are newly initialized: ['classifier.out_proj.bias', 'classifier.out_proj.weight', 'classifier.dense.weight', 'classifier.dense.bias']\n",
      "You should probably TRAIN this model on a down-stream task to be able to use it for predictions and inference.\n"
     ]
    },
    {
     "name": "stdout",
     "output_type": "stream",
     "text": [
      "\n",
      "Model type: <class 'transformers.models.roberta.modeling_roberta.RobertaForSequenceClassification'>\n"
     ]
    }
   ],
   "source": [
    "model = AutoModelForSequenceClassification.from_pretrained(pretrained_model_name_or_path='roberta-base',config=config)\n",
    "print('\\nModel type:', str(type(model)))"
   ]
  },
  {
   "cell_type": "code",
   "execution_count": 25,
   "id": "82824994",
   "metadata": {},
   "outputs": [
    {
     "name": "stdout",
     "output_type": "stream",
     "text": [
      "\n",
      "Loading model to GPU...\n",
      "  GPU: Tesla V100-PCIE-16GB\n",
      "    DONE.\n"
     ]
    }
   ],
   "source": [
    "print('\\nLoading model to GPU...')\n",
    "device = torch.device('cuda')\n",
    "print('  GPU:', torch.cuda.get_device_name(0))\n",
    "desc = model.to(device)\n",
    "print('    DONE.')"
   ]
  },
  {
   "cell_type": "code",
   "execution_count": 29,
   "id": "52fea813",
   "metadata": {},
   "outputs": [],
   "source": [
    "BatchSize=8\n",
    "Epochs=2\n",
    "TotalSteps = len(train_ids) * Epochs\n",
    "optimizer = torch.optim.AdamW(model_loaded.parameters(), lr = 2e-5)\n",
    "scheduler = get_linear_schedule_with_warmup(optimizer, \n",
    "                                            num_warmup_steps = 0,\n",
    "                                            num_training_steps = TotalSteps)"
   ]
  },
  {
   "cell_type": "code",
   "execution_count": 42,
   "id": "182bc837",
   "metadata": {},
   "outputs": [],
   "source": [
    "def model_train(model, epochs, batch_size, train_data, val_data):\n",
    "    # store evaluation metrics\n",
    "    training_stats = []\n",
    "    total_t0 = time.time()\n",
    "\n",
    "    for epoch_i in range(0, epochs):\n",
    "    # ========================================\n",
    "    #               Training\n",
    "    # ========================================\n",
    "        print(\"\")\n",
    "        print('======== Epoch {:} / {:} ========'.format(epoch_i + 1, epochs))\n",
    "        train_sentences, train_labels = select_batches(train_data, batch_size)\n",
    "        train_input_ids, train_attention_masks, train_type_ids = add_padding(train_sentences, train_labels)\n",
    "\n",
    "        \n",
    "        print('Training on {:,} batches...'.format(len(train_input_ids)))\n",
    "        t0 = time.time()\n",
    "        total_train_accuracy = 0\n",
    "        total_train_loss = 0\n",
    "        model.train()\n",
    "        for step in tqdm(range(0, len(train_input_ids))):\n",
    "            b_input_ids = train_input_ids[step].to(device)\n",
    "            b_input_mask = train_attention_masks[step].to(device)\n",
    "            b_labels = train_type_ids[step].to(device)\n",
    "            model.zero_grad()\n",
    "            result = model(b_input_ids, \n",
    "                           token_type_ids=None, \n",
    "                           attention_mask=b_input_mask, \n",
    "                           labels=b_labels,\n",
    "                           return_dict = True)\n",
    "            loss = result.loss\n",
    "            total_train_loss += loss.item()\n",
    "            logits = result.logits.detach().cpu().numpy()\n",
    "            label_ids = b_labels.to('cpu').numpy()\n",
    "            # print('logits ', logits)\n",
    "            # print('label_ids ', label_ids)\n",
    "            total_train_accuracy += flat_accuracy(logits, label_ids)\n",
    "            loss.backward()\n",
    "            torch.nn.utils.clip_grad_norm_(model.parameters(), 1.0)\n",
    "            optimizer.step()\n",
    "            scheduler.step()\n",
    "        avg_train_loss = total_train_loss / len(train_input_ids)\n",
    "        avg_train_accuracy = total_train_accuracy / len(train_input_ids)\n",
    "        training_time = str(datetime.timedelta(seconds = int(round(time.time() - t0))))\n",
    "        print(\"\")\n",
    "        print(\"  Average training loss: {0:.4f}\".format(avg_train_loss))\n",
    "        print(\"  Average training accuracy: {0:.4f}\".format(avg_train_accuracy))\n",
    "        print(\"  Training epcoh {} took: {:}\".format(epoch_i + 1, training_time))\n",
    "    # ========================================\n",
    "    #               Validation\n",
    "    # ========================================\n",
    "        val_sentences, val_labels = select_batches(val_data, batch_size)\n",
    "        val_input_ids, val_attention_masks, val_type_ids = add_padding(val_sentences, val_labels)\n",
    "        print('Validating on {:,} batches...'.format(len(val_input_ids)))\n",
    "        t0 = time.time()\n",
    "        total_val_accuracy = 0\n",
    "        total_val_loss = 0\n",
    "        model.eval()\n",
    "        for step in tqdm(range(0, len(val_input_ids))):\n",
    "            b_input_ids = val_input_ids[step].to(device)\n",
    "            b_input_mask = val_attention_masks[step].to(device)\n",
    "            b_labels = val_type_ids[step].to(device)\n",
    "            with torch.no_grad():  \n",
    "                val_result = model(b_input_ids, \n",
    "                                       token_type_ids=None, \n",
    "                                       attention_mask=b_input_mask, \n",
    "                                       labels=b_labels)\n",
    "            logits = val_result.logits.detach().cpu().numpy()\n",
    "            label_ids = b_labels.to('cpu').numpy()\n",
    "            loss = val_result.loss\n",
    "            total_val_loss += loss.item()\n",
    "            total_val_accuracy += flat_accuracy(logits, label_ids)\n",
    "        avg_val_accuracy = total_val_accuracy / len(val_input_ids)\n",
    "        avg_val_loss = total_val_loss / len(val_input_ids)\n",
    "        val_time = str(datetime.timedelta(seconds = int(round(time.time() - t0))))\n",
    "        print(\"\")\n",
    "        print(\"  Average validation loss: {0:.4f}\".format(avg_val_loss))\n",
    "        print(\"  Average validation accuracy: {0:.4f}\".format(avg_val_accuracy))\n",
    "        print(\"  Validation epcoh {} took: {:}\".format(epoch_i + 1, val_time))\n",
    "        torch.save(model.state_dict(), '/home/ubuntu/environment/model/roberta_512_2005_2018_{}'.format(epoch_i + 1))\n",
    "        training_stats.append(\n",
    "            {\n",
    "                'epoch': epoch_i + 1,\n",
    "                'Training Loss': avg_train_loss,\n",
    "                'Training Accuracy':avg_train_accuracy,\n",
    "                'Training Time': training_time,\n",
    "                'Validation Loss':avg_val_loss,\n",
    "                'Validation Accuracy':avg_val_accuracy,\n",
    "                'Validation Time': val_time,\n",
    "            }\n",
    "        )\n",
    "    print(\"\")\n",
    "    print(\"Training complete!\")\n",
    "    total_time = str(datetime.timedelta(seconds = int(round(time.time() - total_t0))))\n",
    "    print(\"Total training took: {:}\".format(total_time))\n",
    "    return training_stats"
   ]
  },
  {
   "cell_type": "code",
   "execution_count": 21,
   "id": "06840cf0",
   "metadata": {},
   "outputs": [
    {
     "name": "stdout",
     "output_type": "stream",
     "text": [
      "\n",
      "======== Epoch 1 / 2 ========\n"
     ]
    },
    {
     "name": "stderr",
     "output_type": "stream",
     "text": [
      "/tmp/ipykernel_849333/1887877246.py:19: UserWarning: Creating a tensor from a list of numpy.ndarrays is extremely slow. Please consider converting the list to a single numpy.ndarray with numpy.array() before converting to a tensor. (Triggered internally at  ../torch/csrc/utils/tensor_new.cpp:210.)\n",
      "  py_labels.append(torch.tensor(batch_labels))\n"
     ]
    },
    {
     "name": "stdout",
     "output_type": "stream",
     "text": [
      "Training on 100,000 batches...\n"
     ]
    },
    {
     "name": "stderr",
     "output_type": "stream",
     "text": [
      "100%|█████████████████████████████████| 100000/100000 [2:45:23<00:00, 10.08it/s]\n"
     ]
    },
    {
     "name": "stdout",
     "output_type": "stream",
     "text": [
      "\n",
      "  Average training loss: 0.2505\n",
      "  Average training accuracy: 0.7072\n",
      "  Training epcoh 1 took: 2:45:24\n",
      "Validating on 25,000 batches...\n"
     ]
    },
    {
     "name": "stderr",
     "output_type": "stream",
     "text": [
      "100%|█████████████████████████████████████| 25000/25000 [09:07<00:00, 45.67it/s]\n"
     ]
    },
    {
     "name": "stdout",
     "output_type": "stream",
     "text": [
      "\n",
      "  Average validation loss: 0.2426\n",
      "  Average validation accuracy: 0.7235\n",
      "  Validation epcoh 1 took: 0:09:07\n",
      "\n",
      "======== Epoch 2 / 2 ========\n",
      "Training on 100,000 batches...\n"
     ]
    },
    {
     "name": "stderr",
     "output_type": "stream",
     "text": [
      "100%|█████████████████████████████████| 100000/100000 [2:47:05<00:00,  9.97it/s]\n"
     ]
    },
    {
     "name": "stdout",
     "output_type": "stream",
     "text": [
      "\n",
      "  Average training loss: 0.2333\n",
      "  Average training accuracy: 0.7324\n",
      "  Training epcoh 2 took: 2:47:06\n",
      "Validating on 25,000 batches...\n"
     ]
    },
    {
     "name": "stderr",
     "output_type": "stream",
     "text": [
      "100%|█████████████████████████████████████| 25000/25000 [09:07<00:00, 45.63it/s]\n"
     ]
    },
    {
     "name": "stdout",
     "output_type": "stream",
     "text": [
      "\n",
      "  Average validation loss: 0.2367\n",
      "  Average validation accuracy: 0.7271\n",
      "  Validation epcoh 2 took: 0:09:08\n",
      "\n",
      "Training complete!\n",
      "Total training took: 5:51:46\n"
     ]
    }
   ],
   "source": [
    "history_bert = model_train(model, Epochs, BatchSize, train_samples, val_samples)"
   ]
  },
  {
   "cell_type": "code",
   "execution_count": null,
   "id": "b8b10dec",
   "metadata": {},
   "outputs": [],
   "source": [
    "# torch.save(model.state_dict(), '/home/ubuntu/environment/model/roberta_512_2005_2018')"
   ]
  },
  {
   "cell_type": "code",
   "execution_count": 21,
   "id": "18555f24",
   "metadata": {},
   "outputs": [],
   "source": [
    "training_stats = []\n",
    "training_stats.append(\n",
    "    {\n",
    "        'epoch': 1,\n",
    "        'Training Loss': 0.2505,\n",
    "        'Training Accuracy':0.7072,\n",
    "        'Training Time': '2:45:24',\n",
    "        'Validation Loss': 0.2426,\n",
    "        'Validation Accuracy': 0.7235,\n",
    "        'Validation Time': '0:09:07',\n",
    "    }\n",
    ")\n",
    "training_stats.append(\n",
    "    {\n",
    "        'epoch': 2,\n",
    "        'Training Loss': 0.2333,\n",
    "        'Training Accuracy': 0.7324,\n",
    "        'Training Time': '2:47:06',\n",
    "        'Validation Loss':0.2367,\n",
    "        'Validation Accuracy': 0.7271,\n",
    "        'Validation Time': '0:09:08',\n",
    "    }\n",
    ")"
   ]
  },
  {
   "cell_type": "code",
   "execution_count": 22,
   "id": "e15eafd6",
   "metadata": {},
   "outputs": [
    {
     "data": {
      "text/html": [
       "<div>\n",
       "<style scoped>\n",
       "    .dataframe tbody tr th:only-of-type {\n",
       "        vertical-align: middle;\n",
       "    }\n",
       "\n",
       "    .dataframe tbody tr th {\n",
       "        vertical-align: top;\n",
       "    }\n",
       "\n",
       "    .dataframe thead th {\n",
       "        text-align: right;\n",
       "    }\n",
       "</style>\n",
       "<table border=\"1\" class=\"dataframe\">\n",
       "  <thead>\n",
       "    <tr style=\"text-align: right;\">\n",
       "      <th></th>\n",
       "      <th>epoch</th>\n",
       "      <th>Training Loss</th>\n",
       "      <th>Training Accuracy</th>\n",
       "      <th>Training Time</th>\n",
       "      <th>Validation Loss</th>\n",
       "      <th>Validation Accuracy</th>\n",
       "      <th>Validation Time</th>\n",
       "    </tr>\n",
       "  </thead>\n",
       "  <tbody>\n",
       "    <tr>\n",
       "      <th>0</th>\n",
       "      <td>1</td>\n",
       "      <td>0.2505</td>\n",
       "      <td>0.7072</td>\n",
       "      <td>2:45:24</td>\n",
       "      <td>0.2426</td>\n",
       "      <td>0.7235</td>\n",
       "      <td>0:09:07</td>\n",
       "    </tr>\n",
       "    <tr>\n",
       "      <th>1</th>\n",
       "      <td>2</td>\n",
       "      <td>0.2333</td>\n",
       "      <td>0.7324</td>\n",
       "      <td>2:47:06</td>\n",
       "      <td>0.2367</td>\n",
       "      <td>0.7271</td>\n",
       "      <td>0:09:08</td>\n",
       "    </tr>\n",
       "  </tbody>\n",
       "</table>\n",
       "</div>"
      ],
      "text/plain": [
       "   epoch  Training Loss  Training Accuracy Training Time  Validation Loss  \\\n",
       "0      1         0.2505             0.7072       2:45:24           0.2426   \n",
       "1      2         0.2333             0.7324       2:47:06           0.2367   \n",
       "\n",
       "   Validation Accuracy Validation Time  \n",
       "0               0.7235         0:09:07  \n",
       "1               0.7271         0:09:08  "
      ]
     },
     "execution_count": 22,
     "metadata": {},
     "output_type": "execute_result"
    }
   ],
   "source": [
    "history = pd.DataFrame.from_records(training_stats)\n",
    "history"
   ]
  },
  {
   "cell_type": "code",
   "execution_count": 30,
   "id": "03099d43",
   "metadata": {},
   "outputs": [
    {
     "data": {
      "text/plain": [
       "Text(0.5, 1.0, 'Accuracy')"
      ]
     },
     "execution_count": 30,
     "metadata": {},
     "output_type": "execute_result"
    },
    {
     "data": {
      "image/png": "[encoded data removed]",
      "text/plain": [
       "<Figure size 432x288 with 1 Axes>"
      ]
     },
     "metadata": {
      "needs_background": "light"
     },
     "output_type": "display_data"
    }
   ],
   "source": [
    "#plot accuracy\n",
    "# plt.figure(figsize=(15, 7))\n",
    "plt.plot(range(1, Epochs+1), history['Training Accuracy'])\n",
    "plt.plot(range(1, Epochs+1), history['Validation Accuracy'])\n",
    "plt.legend(['training_acc', 'validation_acc'])\n",
    "plt.title('Accuracy')"
   ]
  },
  {
   "cell_type": "code",
   "execution_count": 31,
   "id": "576e1d26",
   "metadata": {},
   "outputs": [
    {
     "data": {
      "text/plain": [
       "Text(0.5, 1.0, 'Loss')"
      ]
     },
     "execution_count": 31,
     "metadata": {},
     "output_type": "execute_result"
    },
    {
     "data": {
      "image/png": "[encoded data removed]",
      "text/plain": [
       "<Figure size 432x288 with 1 Axes>"
      ]
     },
     "metadata": {
      "needs_background": "light"
     },
     "output_type": "display_data"
    }
   ],
   "source": [
    "#plot loss\n",
    "#plt.figure(figsize=(15, 7))\n",
    "plt.plot(range(1, Epochs+1), history['Training Loss'])\n",
    "plt.plot(range(1, Epochs+1), history['Validation Loss'])\n",
    "plt.legend(['training_loss', 'validation_loss'])\n",
    "plt.title('Loss')"
   ]
  },
  {
   "cell_type": "code",
   "execution_count": 44,
   "id": "3212e852",
   "metadata": {},
   "outputs": [],
   "source": [
    "with open(\"/home/ubuntu/environment/performance/roberta_512_history.json\", 'w') as f:\n",
    "    json.dump(history_bert, f, indent=2) "
   ]
  },
  {
   "cell_type": "code",
   "execution_count": 32,
   "id": "024296c8",
   "metadata": {
    "scrolled": true
   },
   "outputs": [
    {
     "name": "stderr",
     "output_type": "stream",
     "text": [
      "Some weights of the model checkpoint at roberta-base were not used when initializing RobertaForSequenceClassification: ['lm_head.layer_norm.weight', 'lm_head.dense.weight', 'lm_head.layer_norm.bias', 'lm_head.dense.bias', 'roberta.pooler.dense.bias', 'lm_head.decoder.weight', 'roberta.pooler.dense.weight', 'lm_head.bias']\n",
      "- This IS expected if you are initializing RobertaForSequenceClassification from the checkpoint of a model trained on another task or with another architecture (e.g. initializing a BertForSequenceClassification model from a BertForPreTraining model).\n",
      "- This IS NOT expected if you are initializing RobertaForSequenceClassification from the checkpoint of a model that you expect to be exactly identical (initializing a BertForSequenceClassification model from a BertForSequenceClassification model).\n",
      "Some weights of RobertaForSequenceClassification were not initialized from the model checkpoint at roberta-base and are newly initialized: ['classifier.out_proj.bias', 'classifier.out_proj.weight', 'classifier.dense.weight', 'classifier.dense.bias']\n",
      "You should probably TRAIN this model on a down-stream task to be able to use it for predictions and inference.\n"
     ]
    }
   ],
   "source": [
    "model_loaded = AutoModelForSequenceClassification.from_pretrained(pretrained_model_name_or_path='roberta-base',config=config)\n",
    "model_loaded.load_state_dict(torch.load('/home/ubuntu/environment/model/roberta_512_2005_2018_1'))\n",
    "device = torch.device('cuda')\n",
    "desc = model_loaded.to(device)"
   ]
  },
  {
   "cell_type": "code",
   "execution_count": 33,
   "id": "3e96073d",
   "metadata": {},
   "outputs": [],
   "source": [
    "data_test= pd.read_json('~/environment/data/restaurant_review_2019_cleaned.json')"
   ]
  },
  {
   "cell_type": "code",
   "execution_count": 34,
   "id": "efc13136",
   "metadata": {},
   "outputs": [],
   "source": [
    "test_star_reduce = data_test['stars']-1\n",
    "dummy_test_y = np_utils.to_categorical(test_star_reduce)"
   ]
  },
  {
   "cell_type": "code",
   "execution_count": 35,
   "id": "b6e8a2dc",
   "metadata": {},
   "outputs": [],
   "source": [
    "MAX_LEN=512\n",
    "tokenizer_roberta = RobertaTokenizer.from_pretrained(\"roberta-base\")\n",
    "BatchSize=8"
   ]
  },
  {
   "cell_type": "code",
   "execution_count": 36,
   "id": "252c0651",
   "metadata": {},
   "outputs": [],
   "source": [
    "def fixed_padding(tokenizer, train_text, train_labels, batch_size, max_len):\n",
    "    batches_input_ids = []\n",
    "    batches_attention_masks = []\n",
    "    batches_labels = []\n",
    "    for i in tqdm(range(0, len(train_text), batch_size)):\n",
    "        encoded_dict = tokenizer.batch_encode_plus(\n",
    "            train_text[i:i+batch_size], # Batch of sentences to encode.\n",
    "            add_special_tokens = True,  # Add '[CLS]' and '[SEP]'\n",
    "            max_length = max_len,           # Pad & truncate all sentences.\n",
    "            padding = 'max_length',     # Pad all to the `max_length` parameter.\n",
    "            truncation = True,\n",
    "            return_attention_mask = True,   # Construct attn. masks.\n",
    "            return_tensors = 'pt',     # Return pytorch tensors.\n",
    "        )\n",
    "        batches_input_ids.append(encoded_dict['input_ids'])\n",
    "        batches_attention_masks.append(encoded_dict['attention_mask'])\n",
    "        batches_labels.append(torch.tensor(train_labels[i:i+batch_size]))\n",
    "    return batches_input_ids,batches_attention_masks,batches_labels"
   ]
  },
  {
   "cell_type": "code",
   "execution_count": 37,
   "id": "bcc9e5ea",
   "metadata": {},
   "outputs": [
    {
     "name": "stderr",
     "output_type": "stream",
     "text": [
      "100%|██████████████████████████████████| 100000/100000 [09:47<00:00, 170.32it/s]\n"
     ]
    }
   ],
   "source": [
    "train_input_ids, train_attention_masks, train_type_ids = fixed_padding(tokenizer_roberta, \n",
    "                                                                    X_train,\n",
    "                                                                    Y_train,\n",
    "                                                                    BatchSize, MAX_LEN)"
   ]
  },
  {
   "cell_type": "code",
   "execution_count": 38,
   "id": "5c88e2fa",
   "metadata": {},
   "outputs": [
    {
     "name": "stderr",
     "output_type": "stream",
     "text": [
      "100%|████████████████████████████████████| 25000/25000 [02:25<00:00, 171.65it/s]\n"
     ]
    }
   ],
   "source": [
    "val_input_ids, val_attention_masks, val_type_ids = fixed_padding(tokenizer_roberta, \n",
    "                                                                    X_val,\n",
    "                                                                    Y_val,\n",
    "                                                                    BatchSize, MAX_LEN)"
   ]
  },
  {
   "cell_type": "code",
   "execution_count": 39,
   "id": "38e758d2",
   "metadata": {},
   "outputs": [
    {
     "name": "stderr",
     "output_type": "stream",
     "text": [
      "100%|████████████████████████████████████| 65575/65575 [05:48<00:00, 188.19it/s]\n"
     ]
    }
   ],
   "source": [
    "test_input_ids, test_attention_masks, test_type_ids = fixed_padding(tokenizer_roberta, \n",
    "                                                                    data_test.cleaned_text,\n",
    "                                                                    dummy_test_y,\n",
    "                                                                    BatchSize, MAX_LEN)"
   ]
  },
  {
   "cell_type": "code",
   "execution_count": 40,
   "id": "37bd6a7f",
   "metadata": {},
   "outputs": [],
   "source": [
    "def model_predict(model, batch_size, test_input_ids, test_attention_masks, test_type_ids):\n",
    "    t0 = time.time()\n",
    "    predictions , true_labels = [], []\n",
    "    \n",
    "    print('Predicting labels for {:,} test sentences...'.format(len(test_input_ids)))\n",
    "    model.eval()\n",
    "    for step in tqdm(range(0, len(test_input_ids))):\n",
    "        b_input_ids = test_input_ids[step].to(device)\n",
    "        b_input_mask = test_attention_masks[step].to(device)\n",
    "        b_labels = test_type_ids[step].to(device)\n",
    "        with torch.no_grad():  \n",
    "            outputs = model(b_input_ids, \n",
    "                                   token_type_ids=None, \n",
    "                                   attention_mask=b_input_mask)\n",
    "        logits = outputs[0]\n",
    "        logits = logits.detach().cpu().numpy()\n",
    "        label_ids = b_labels.to('cpu').numpy()\n",
    "        predictions.append(logits)\n",
    "        true_labels.append(label_ids)\n",
    "    test_time = str(datetime.timedelta(seconds = int(round(time.time() - t0))))\n",
    "    print(\"Total testing took: {:}\".format(test_time))\n",
    "    return predictions, true_labels"
   ]
  },
  {
   "cell_type": "code",
   "execution_count": 41,
   "id": "038dcc2b",
   "metadata": {},
   "outputs": [
    {
     "name": "stdout",
     "output_type": "stream",
     "text": [
      "Predicting labels for 100,000 test sentences...\n"
     ]
    },
    {
     "name": "stderr",
     "output_type": "stream",
     "text": [
      "100%|█████████████████████████████████| 100000/100000 [2:21:25<00:00, 11.78it/s]"
     ]
    },
    {
     "name": "stdout",
     "output_type": "stream",
     "text": [
      "Total testing took: 2:21:26\n"
     ]
    },
    {
     "name": "stderr",
     "output_type": "stream",
     "text": [
      "\n"
     ]
    }
   ],
   "source": [
    "train_evals, train_stars = model_predict(model_loaded, BatchSize, train_input_ids, train_attention_masks, train_type_ids)"
   ]
  },
  {
   "cell_type": "code",
   "execution_count": 42,
   "id": "beea681e",
   "metadata": {},
   "outputs": [],
   "source": [
    "train_eval = np.argmax(np.concatenate(train_evals, axis=0), axis = 1)+1\n",
    "train_star = np.argmax(np.concatenate(train_stars, axis=0), axis = 1)+1"
   ]
  },
  {
   "cell_type": "code",
   "execution_count": 43,
   "id": "f7f5f3fa",
   "metadata": {},
   "outputs": [
    {
     "data": {
      "text/plain": [
       "array([[ 61546,  17268,   1915,    265,    714],\n",
       "       [  9484,  39632,  16286,   1132,    504],\n",
       "       [  1184,  10414,  60338,  22556,   2757],\n",
       "       [   243,    499,  11332, 128326,  72482],\n",
       "       [   222,    121,    631,  37777, 302372]])"
      ]
     },
     "execution_count": 43,
     "metadata": {},
     "output_type": "execute_result"
    }
   ],
   "source": [
    "confusion_matrix(train_star, train_eval)"
   ]
  },
  {
   "cell_type": "code",
   "execution_count": 44,
   "id": "2571e7f7",
   "metadata": {},
   "outputs": [
    {
     "name": "stdout",
     "output_type": "stream",
     "text": [
      "              precision    recall  f1-score   support\n",
      "\n",
      "           1     0.8468    0.7532    0.7973     81708\n",
      "           2     0.5834    0.5912    0.5873     67038\n",
      "           3     0.6667    0.6204    0.6427     97249\n",
      "           4     0.6752    0.6028    0.6370    212882\n",
      "           5     0.7982    0.8864    0.8400    341123\n",
      "\n",
      "    accuracy                         0.7403    800000\n",
      "   macro avg     0.7141    0.6908    0.7008    800000\n",
      "weighted avg     0.7364    0.7403    0.7364    800000\n",
      "\n"
     ]
    }
   ],
   "source": [
    "print(classification_report(train_star, train_eval, digits = 4))"
   ]
  },
  {
   "cell_type": "code",
   "execution_count": 45,
   "id": "514306d0",
   "metadata": {},
   "outputs": [
    {
     "name": "stdout",
     "output_type": "stream",
     "text": [
      "Predicting labels for 25,000 test sentences...\n"
     ]
    },
    {
     "name": "stderr",
     "output_type": "stream",
     "text": [
      "100%|█████████████████████████████████████| 25000/25000 [35:20<00:00, 11.79it/s]"
     ]
    },
    {
     "name": "stdout",
     "output_type": "stream",
     "text": [
      "Total testing took: 0:35:21\n"
     ]
    },
    {
     "name": "stderr",
     "output_type": "stream",
     "text": [
      "\n"
     ]
    }
   ],
   "source": [
    "val_evals, val_stars = model_predict(model_loaded, BatchSize, val_input_ids, val_attention_masks, val_type_ids)"
   ]
  },
  {
   "cell_type": "code",
   "execution_count": 46,
   "id": "b5477d6c",
   "metadata": {},
   "outputs": [],
   "source": [
    "val_eval = np.argmax(np.concatenate(val_evals, axis=0), axis = 1)+1\n",
    "val_star = np.argmax(np.concatenate(val_stars, axis=0), axis = 1)+1"
   ]
  },
  {
   "cell_type": "code",
   "execution_count": 47,
   "id": "4da8b548",
   "metadata": {},
   "outputs": [
    {
     "data": {
      "text/plain": [
       "array([[15091,  4470,   563,    91,   212],\n",
       "       [ 2644,  9397,  4235,   331,   153],\n",
       "       [  347,  2876, 14372,  5965,   752],\n",
       "       [   82,   156,  3126, 30927, 18929],\n",
       "       [   86,    49,   199, 10031, 74916]])"
      ]
     },
     "execution_count": 47,
     "metadata": {},
     "output_type": "execute_result"
    }
   ],
   "source": [
    "confusion_matrix(val_star, val_eval)"
   ]
  },
  {
   "cell_type": "code",
   "execution_count": 48,
   "id": "f44e7ff7",
   "metadata": {},
   "outputs": [
    {
     "name": "stdout",
     "output_type": "stream",
     "text": [
      "              precision    recall  f1-score   support\n",
      "\n",
      "           1     0.8269    0.7388    0.7804     20427\n",
      "           2     0.5545    0.5607    0.5576     16760\n",
      "           3     0.6389    0.5911    0.6141     24312\n",
      "           4     0.6532    0.5811    0.6151     53220\n",
      "           5     0.7889    0.8785    0.8313     85281\n",
      "\n",
      "    accuracy                         0.7235    200000\n",
      "   macro avg     0.6925    0.6700    0.6797    200000\n",
      "weighted avg     0.7188    0.7235    0.7192    200000\n",
      "\n"
     ]
    }
   ],
   "source": [
    "print(classification_report(val_star, val_eval, digits = 4))"
   ]
  },
  {
   "cell_type": "code",
   "execution_count": 49,
   "id": "86490a53",
   "metadata": {},
   "outputs": [
    {
     "name": "stdout",
     "output_type": "stream",
     "text": [
      "Predicting labels for 65,575 test sentences...\n"
     ]
    },
    {
     "name": "stderr",
     "output_type": "stream",
     "text": [
      "100%|███████████████████████████████████| 65575/65575 [1:32:43<00:00, 11.79it/s]"
     ]
    },
    {
     "name": "stdout",
     "output_type": "stream",
     "text": [
      "Total testing took: 1:32:44\n"
     ]
    },
    {
     "name": "stderr",
     "output_type": "stream",
     "text": [
      "\n"
     ]
    }
   ],
   "source": [
    "preds, stars = model_predict(model_loaded, BatchSize, test_input_ids, test_attention_masks, test_type_ids)"
   ]
  },
  {
   "cell_type": "code",
   "execution_count": 50,
   "id": "afdf7958",
   "metadata": {},
   "outputs": [],
   "source": [
    "pred = np.argmax(np.concatenate(preds, axis=0), axis = 1)+1\n",
    "star = np.argmax(np.concatenate(stars, axis=0), axis = 1)+1"
   ]
  },
  {
   "cell_type": "code",
   "execution_count": 51,
   "id": "5718a387",
   "metadata": {},
   "outputs": [
    {
     "data": {
      "text/plain": [
       "array([[ 52677,  12901,   1677,    300,    849],\n",
       "       [  7899,  22952,   8094,    645,    363],\n",
       "       [  1323,   8792,  30476,   8749,   1308],\n",
       "       [   211,    470,   8577,  60459,  31599],\n",
       "       [   210,    136,    620,  30406, 232900]])"
      ]
     },
     "execution_count": 51,
     "metadata": {},
     "output_type": "execute_result"
    }
   ],
   "source": [
    "confusion_matrix(data_test['stars'], pred)"
   ]
  },
  {
   "cell_type": "code",
   "execution_count": 52,
   "id": "29b77db8",
   "metadata": {},
   "outputs": [
    {
     "name": "stdout",
     "output_type": "stream",
     "text": [
      "              precision    recall  f1-score   support\n",
      "\n",
      "           1     0.8453    0.7701    0.8059     68404\n",
      "           2     0.5072    0.5745    0.5388     39953\n",
      "           3     0.6164    0.6017    0.6090     50648\n",
      "           4     0.6012    0.5967    0.5990    101316\n",
      "           5     0.8722    0.8813    0.8767    264272\n",
      "\n",
      "    accuracy                         0.7615    524593\n",
      "   macro avg     0.6885    0.6849    0.6859    524593\n",
      "weighted avg     0.7639    0.7615    0.7623    524593\n",
      "\n"
     ]
    }
   ],
   "source": [
    "print(classification_report(data_test['stars'], pred, digits = 4))"
   ]
  },
  {
   "cell_type": "code",
   "execution_count": 53,
   "id": "b1b721e7",
   "metadata": {},
   "outputs": [],
   "source": [
    "data_test['stars_roberta_512'] = pred"
   ]
  },
  {
   "cell_type": "code",
   "execution_count": 54,
   "id": "849b4b34",
   "metadata": {},
   "outputs": [],
   "source": [
    "data_test.to_json('~/environment/data/restaurant_review_2019_cleaned_roberta_512_prediction_1.json')"
   ]
  },
  {
   "cell_type": "code",
   "execution_count": null,
   "id": "25f5f9bd",
   "metadata": {},
   "outputs": [],
   "source": [
    "'''\n",
    "padded_lengths = []\n",
    "\n",
    "for batch in train_input_ids:\n",
    "    for s in batch:\n",
    "        padded_lengths.append(len(s))\n",
    "smart_token_count = np.sum(padded_lengths)\n",
    "\n",
    "fixed_token_count = len(X_train) * MAX_LEN\n",
    "prcnt_reduced = (fixed_token_count - smart_token_count) / float(fixed_token_count) \n",
    "\n",
    "print('Total tokens:')\n",
    "print('   Fixed Padding: {:,}'.format(fixed_token_count))\n",
    "print('  Smart Batching: {:,}  ({:.1%} less)'.format(smart_token_count, prcnt_reduced))\n",
    "'''"
   ]
  }
 ],
 "metadata": {
  "kernelspec": {
   "display_name": "Python 3 (ipykernel)",
   "language": "python",
   "name": "python3"
  },
  "language_info": {
   "codemirror_mode": {
    "name": "ipython",
    "version": 3
   },
   "file_extension": ".py",
   "mimetype": "text/x-python",
   "name": "python",
   "nbconvert_exporter": "python",
   "pygments_lexer": "ipython3",
   "version": "3.8.10"
  }
 },
 "nbformat": 4,
 "nbformat_minor": 5
}
