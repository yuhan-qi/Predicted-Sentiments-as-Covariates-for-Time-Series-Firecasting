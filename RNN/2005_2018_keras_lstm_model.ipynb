{
 "cells": [
  {
   "cell_type": "code",
   "execution_count": null,
   "metadata": {
    "id": "Jw3LtMOZ9Ha4"
   },
   "outputs": [],
   "source": [
    "import pandas as pd\n",
    "import numpy as np\n",
    "from keras.layers import LSTM, Activation, Dropout, Dense, Input\n",
    "from keras.layers.embeddings import Embedding\n",
    "from keras.models import Model, Sequential\n",
    "from keras.utils import np_utils\n",
    "import string\n",
    "import re\n",
    "from keras.preprocessing.text import Tokenizer\n",
    "from sklearn.preprocessing import LabelBinarizer\n",
    "from keras.preprocessing.sequence import pad_sequences\n",
    "import keras\n",
    "from sklearn.model_selection import train_test_split\n",
    "import tensorflow as tf\n",
    "from keras.callbacks import EarlyStopping\n",
    "import matplotlib.pyplot as plt\n",
    "import pickle\n",
    "from sklearn.metrics import confusion_matrix, classification_report"
   ]
  },
  {
   "cell_type": "code",
   "execution_count": null,
   "metadata": {
    "colab": {
     "base_uri": "https://localhost:8080/"
    },
    "executionInfo": {
     "elapsed": 4,
     "status": "ok",
     "timestamp": 1653916684926,
     "user": {
      "displayName": "Yuhan Qi",
      "userId": "06179854386609260574"
     },
     "user_tz": -120
    },
    "id": "NWPLJRK1BqPs",
    "outputId": "ef2496b3-286e-4a20-ca61-babf053d42a5"
   },
   "outputs": [
    {
     "name": "stdout",
     "output_type": "stream",
     "text": [
      "Found GPU at: /device:GPU:0\n"
     ]
    }
   ],
   "source": [
    "device_name = tf.test.gpu_device_name()\n",
    "if device_name != '/device:GPU:0':\n",
    "  raise SystemError('GPU device not found')\n",
    "print('Found GPU at: {}'.format(device_name))"
   ]
  },
  {
   "cell_type": "code",
   "execution_count": null,
   "metadata": {
    "id": "SO44JfQXB9BZ"
   },
   "outputs": [],
   "source": [
    "# tf.debugging.set_log_device_placement(True)"
   ]
  },
  {
   "cell_type": "code",
   "execution_count": null,
   "metadata": {
    "id": "8JkpF33D-Ynt"
   },
   "outputs": [],
   "source": [
    "data = pd.read_json('/content/drive/My Drive/Master Thesis/Data/sample_1000000_2005_2018_cleaned.json')"
   ]
  },
  {
   "cell_type": "code",
   "execution_count": null,
   "metadata": {
    "colab": {
     "base_uri": "https://localhost:8080/",
     "height": 81
    },
    "executionInfo": {
     "elapsed": 248,
     "status": "ok",
     "timestamp": 1654004143560,
     "user": {
      "displayName": "Yuhan Qi",
      "userId": "06179854386609260574"
     },
     "user_tz": -120
    },
    "id": "wmU2bwZJ5rM0",
    "outputId": "692206f3-c690-4b36-e081-cb4f1c4b87f2"
   },
   "outputs": [
    {
     "data": {
      "text/html": [
       "\n",
       "  <div id=\"df-e6c004d1-1a8b-4c32-a43e-fd0243421191\">\n",
       "    <div class=\"colab-df-container\">\n",
       "      <div>\n",
       "<style scoped>\n",
       "    .dataframe tbody tr th:only-of-type {\n",
       "        vertical-align: middle;\n",
       "    }\n",
       "\n",
       "    .dataframe tbody tr th {\n",
       "        vertical-align: top;\n",
       "    }\n",
       "\n",
       "    .dataframe thead th {\n",
       "        text-align: right;\n",
       "    }\n",
       "</style>\n",
       "<table border=\"1\" class=\"dataframe\">\n",
       "  <thead>\n",
       "    <tr style=\"text-align: right;\">\n",
       "      <th></th>\n",
       "      <th>index</th>\n",
       "      <th>text</th>\n",
       "      <th>stars</th>\n",
       "      <th>cleaned_text</th>\n",
       "      <th>stars_reduce</th>\n",
       "    </tr>\n",
       "  </thead>\n",
       "  <tbody>\n",
       "    <tr>\n",
       "      <th>1105058</th>\n",
       "      <td>2344352</td>\n",
       "      <td>Excellent food and customer service! My mom fo...</td>\n",
       "      <td>5</td>\n",
       "      <td>Excellent food and customer service ! My mom f...</td>\n",
       "      <td>4</td>\n",
       "    </tr>\n",
       "  </tbody>\n",
       "</table>\n",
       "</div>\n",
       "      <button class=\"colab-df-convert\" onclick=\"convertToInteractive('df-e6c004d1-1a8b-4c32-a43e-fd0243421191')\"\n",
       "              title=\"Convert this dataframe to an interactive table.\"\n",
       "              style=\"display:none;\">\n",
       "        \n",
       "  <svg xmlns=\"http://www.w3.org/2000/svg\" height=\"24px\"viewBox=\"0 0 24 24\"\n",
       "       width=\"24px\">\n",
       "    <path d=\"M0 0h24v24H0V0z\" fill=\"none\"/>\n",
       "    <path d=\"M18.56 5.44l.94 2.06.94-2.06 2.06-.94-2.06-.94-.94-2.06-.94 2.06-2.06.94zm-11 1L8.5 8.5l.94-2.06 2.06-.94-2.06-.94L8.5 2.5l-.94 2.06-2.06.94zm10 10l.94 2.06.94-2.06 2.06-.94-2.06-.94-.94-2.06-.94 2.06-2.06.94z\"/><path d=\"M17.41 7.96l-1.37-1.37c-.4-.4-.92-.59-1.43-.59-.52 0-1.04.2-1.43.59L10.3 9.45l-7.72 7.72c-.78.78-.78 2.05 0 2.83L4 21.41c.39.39.9.59 1.41.59.51 0 1.02-.2 1.41-.59l7.78-7.78 2.81-2.81c.8-.78.8-2.07 0-2.86zM5.41 20L4 18.59l7.72-7.72 1.47 1.35L5.41 20z\"/>\n",
       "  </svg>\n",
       "      </button>\n",
       "      \n",
       "  <style>\n",
       "    .colab-df-container {\n",
       "      display:flex;\n",
       "      flex-wrap:wrap;\n",
       "      gap: 12px;\n",
       "    }\n",
       "\n",
       "    .colab-df-convert {\n",
       "      background-color: #E8F0FE;\n",
       "      border: none;\n",
       "      border-radius: 50%;\n",
       "      cursor: pointer;\n",
       "      display: none;\n",
       "      fill: #1967D2;\n",
       "      height: 32px;\n",
       "      padding: 0 0 0 0;\n",
       "      width: 32px;\n",
       "    }\n",
       "\n",
       "    .colab-df-convert:hover {\n",
       "      background-color: #E2EBFA;\n",
       "      box-shadow: 0px 1px 2px rgba(60, 64, 67, 0.3), 0px 1px 3px 1px rgba(60, 64, 67, 0.15);\n",
       "      fill: #174EA6;\n",
       "    }\n",
       "\n",
       "    [theme=dark] .colab-df-convert {\n",
       "      background-color: #3B4455;\n",
       "      fill: #D2E3FC;\n",
       "    }\n",
       "\n",
       "    [theme=dark] .colab-df-convert:hover {\n",
       "      background-color: #434B5C;\n",
       "      box-shadow: 0px 1px 3px 1px rgba(0, 0, 0, 0.15);\n",
       "      filter: drop-shadow(0px 1px 2px rgba(0, 0, 0, 0.3));\n",
       "      fill: #FFFFFF;\n",
       "    }\n",
       "  </style>\n",
       "\n",
       "      <script>\n",
       "        const buttonEl =\n",
       "          document.querySelector('#df-e6c004d1-1a8b-4c32-a43e-fd0243421191 button.colab-df-convert');\n",
       "        buttonEl.style.display =\n",
       "          google.colab.kernel.accessAllowed ? 'block' : 'none';\n",
       "\n",
       "        async function convertToInteractive(key) {\n",
       "          const element = document.querySelector('#df-e6c004d1-1a8b-4c32-a43e-fd0243421191');\n",
       "          const dataTable =\n",
       "            await google.colab.kernel.invokeFunction('convertToInteractive',\n",
       "                                                     [key], {});\n",
       "          if (!dataTable) return;\n",
       "\n",
       "          const docLinkHtml = 'Like what you see? Visit the ' +\n",
       "            '<a target=\"_blank\" href=https://colab.research.google.com/notebooks/data_table.ipynb>data table notebook</a>'\n",
       "            + ' to learn more about interactive tables.';\n",
       "          element.innerHTML = '';\n",
       "          dataTable['output_type'] = 'display_data';\n",
       "          await google.colab.output.renderOutput(dataTable, element);\n",
       "          const docLink = document.createElement('div');\n",
       "          docLink.innerHTML = docLinkHtml;\n",
       "          element.appendChild(docLink);\n",
       "        }\n",
       "      </script>\n",
       "    </div>\n",
       "  </div>\n",
       "  "
      ],
      "text/plain": [
       "           index                                               text  stars  \\\n",
       "1105058  2344352  Excellent food and customer service! My mom fo...      5   \n",
       "\n",
       "                                              cleaned_text  stars_reduce  \n",
       "1105058  Excellent food and customer service ! My mom f...             4  "
      ]
     },
     "execution_count": 5,
     "metadata": {},
     "output_type": "execute_result"
    }
   ],
   "source": [
    "data.head(1)"
   ]
  },
  {
   "cell_type": "code",
   "execution_count": null,
   "metadata": {
    "id": "tr7CtbDp4ShY"
   },
   "outputs": [],
   "source": [
    "data['stars_reduce'] = data['stars']-1"
   ]
  },
  {
   "cell_type": "code",
   "execution_count": null,
   "metadata": {
    "colab": {
     "base_uri": "https://localhost:8080/"
    },
    "executionInfo": {
     "elapsed": 3,
     "status": "ok",
     "timestamp": 1654004143561,
     "user": {
      "displayName": "Yuhan Qi",
      "userId": "06179854386609260574"
     },
     "user_tz": -120
    },
    "id": "Qa4dt9l2yfWo",
    "outputId": "f9dfbfc7-179d-4400-e2eb-d86834d5135f"
   },
   "outputs": [
    {
     "data": {
      "text/plain": [
       "(1000000, 5)"
      ]
     },
     "execution_count": 6,
     "metadata": {},
     "output_type": "execute_result"
    }
   ],
   "source": [
    "dummy_y = np_utils.to_categorical(data.stars_reduce)\n",
    "dummy_y.shape"
   ]
  },
  {
   "cell_type": "code",
   "execution_count": null,
   "metadata": {
    "id": "6OZ50cBj-xW8"
   },
   "outputs": [],
   "source": [
    "X_train, X_test,Y_train, Y_test = train_test_split(data.cleaned_text, dummy_y, test_size=0.2, random_state = 45)"
   ]
  },
  {
   "cell_type": "code",
   "execution_count": null,
   "metadata": {
    "id": "dAvQ7Z50-xR4"
   },
   "outputs": [],
   "source": [
    "tokenizer = Tokenizer()\n",
    "tokenizer.fit_on_texts(X_train)\n",
    "\n",
    "#words_to_index is the dictionary mapping words to their respective index.\n",
    "words_to_index = tokenizer.word_index"
   ]
  },
  {
   "cell_type": "code",
   "execution_count": null,
   "metadata": {
    "id": "ok5OyTCdJLSp"
   },
   "outputs": [],
   "source": [
    "maxLen = 300\n",
    "vocab_len = len(words_to_index)+1\n",
    "embedding_dim = 64"
   ]
  },
  {
   "cell_type": "code",
   "execution_count": null,
   "metadata": {
    "id": "Me6RzTwhKm2e"
   },
   "outputs": [],
   "source": [
    "def lstm_model(input_shape):\n",
    "\n",
    "  X_indices = Input(input_shape)\n",
    "\n",
    "  embeddings = Embedding(input_dim=vocab_len, output_dim=embedding_dim, input_length=maxLen)(X_indices)\n",
    "\n",
    "  X = LSTM(128, return_sequences=True)(embeddings)\n",
    "\n",
    "  X = Dropout(0.5)(X)\n",
    "\n",
    "  X = LSTM(128)(X)\n",
    "\n",
    "  X = Dropout(0.5)(X)\n",
    "\n",
    "  X = Dense(5, activation='softmax')(X)\n",
    "\n",
    "  model = Model(inputs=X_indices, outputs=X)\n",
    "\n",
    "  return model"
   ]
  },
  {
   "cell_type": "code",
   "execution_count": null,
   "metadata": {
    "colab": {
     "base_uri": "https://localhost:8080/"
    },
    "executionInfo": {
     "elapsed": 1192,
     "status": "ok",
     "timestamp": 1653916846926,
     "user": {
      "displayName": "Yuhan Qi",
      "userId": "06179854386609260574"
     },
     "user_tz": -120
    },
    "id": "_T0S4xVLMwN9",
    "outputId": "0725727a-0379-4385-f267-1f27428c3441"
   },
   "outputs": [
    {
     "name": "stdout",
     "output_type": "stream",
     "text": [
      "Model: \"model\"\n",
      "_________________________________________________________________\n",
      " Layer (type)                Output Shape              Param #   \n",
      "=================================================================\n",
      " input_1 (InputLayer)        [(None, 300)]             0         \n",
      "                                                                 \n",
      " embedding (Embedding)       (None, 300, 50)           8609550   \n",
      "                                                                 \n",
      " lstm (LSTM)                 (None, 300, 128)          91648     \n",
      "                                                                 \n",
      " dropout (Dropout)           (None, 300, 128)          0         \n",
      "                                                                 \n",
      " lstm_1 (LSTM)               (None, 128)               131584    \n",
      "                                                                 \n",
      " dropout_1 (Dropout)         (None, 128)               0         \n",
      "                                                                 \n",
      " dense (Dense)               (None, 5)                 645       \n",
      "                                                                 \n",
      "=================================================================\n",
      "Total params: 8,833,427\n",
      "Trainable params: 223,877\n",
      "Non-trainable params: 8,609,550\n",
      "_________________________________________________________________\n"
     ]
    }
   ],
   "source": [
    "model = lstm_model((maxLen,))\n",
    "model.summary()"
   ]
  },
  {
   "cell_type": "code",
   "execution_count": null,
   "metadata": {
    "colab": {
     "base_uri": "https://localhost:8080/"
    },
    "executionInfo": {
     "elapsed": 74833,
     "status": "ok",
     "timestamp": 1654004308174,
     "user": {
      "displayName": "Yuhan Qi",
      "userId": "06179854386609260574"
     },
     "user_tz": -120
    },
    "id": "aO54BFPFLJSj",
    "outputId": "cb9ce94b-abc2-425a-e8ad-74bdec48bd77"
   },
   "outputs": [
    {
     "name": "stdout",
     "output_type": "stream",
     "text": [
      "(800000, 300)\n"
     ]
    }
   ],
   "source": [
    "X_train_indices = tokenizer.texts_to_sequences(X_train)\n",
    "\n",
    "X_train_indices = pad_sequences(X_train_indices, maxlen=maxLen, padding='post')\n",
    "\n",
    "print(X_train_indices.shape)\n",
    "\n",
    "X_test_indices = tokenizer.texts_to_sequences(X_test)\n",
    "\n",
    "X_test_indices = pad_sequences(X_test_indices, maxlen=maxLen, padding='post')"
   ]
  },
  {
   "cell_type": "code",
   "execution_count": null,
   "metadata": {
    "colab": {
     "base_uri": "https://localhost:8080/"
    },
    "executionInfo": {
     "elapsed": 7764784,
     "status": "ok",
     "timestamp": 1653924686477,
     "user": {
      "displayName": "Yuhan Qi",
      "userId": "06179854386609260574"
     },
     "user_tz": -120
    },
    "id": "YDgWC3h7LJMV",
    "outputId": "f0de4a97-4e02-4760-eebd-0df959cde255"
   },
   "outputs": [
    {
     "name": "stdout",
     "output_type": "stream",
     "text": [
      "Epoch 1/20\n",
      "12500/12500 [==============================] - 385s 30ms/step - loss: 1.2139 - accuracy: 0.4789\n",
      "Epoch 2/20\n",
      "12500/12500 [==============================] - 388s 31ms/step - loss: 1.0582 - accuracy: 0.5265\n",
      "Epoch 3/20\n",
      "12500/12500 [==============================] - 399s 32ms/step - loss: 1.0176 - accuracy: 0.5430\n",
      "Epoch 4/20\n",
      "12500/12500 [==============================] - 393s 31ms/step - loss: 0.9973 - accuracy: 0.5527\n",
      "Epoch 5/20\n",
      "12500/12500 [==============================] - 403s 32ms/step - loss: 0.9842 - accuracy: 0.5579\n",
      "Epoch 6/20\n",
      "12500/12500 [==============================] - 395s 32ms/step - loss: 0.9745 - accuracy: 0.5628\n",
      "Epoch 7/20\n",
      "12500/12500 [==============================] - 376s 30ms/step - loss: 0.9669 - accuracy: 0.5669\n",
      "Epoch 8/20\n",
      "12500/12500 [==============================] - 377s 30ms/step - loss: 0.9602 - accuracy: 0.5703\n",
      "Epoch 9/20\n",
      "12500/12500 [==============================] - 383s 31ms/step - loss: 0.9542 - accuracy: 0.5727\n",
      "Epoch 10/20\n",
      "12500/12500 [==============================] - 380s 30ms/step - loss: 0.9487 - accuracy: 0.5756\n",
      "Epoch 11/20\n",
      "12500/12500 [==============================] - 384s 31ms/step - loss: 0.9432 - accuracy: 0.5787\n",
      "Epoch 12/20\n",
      "12500/12500 [==============================] - 381s 31ms/step - loss: 0.9348 - accuracy: 0.5825\n",
      "Epoch 13/20\n",
      "12500/12500 [==============================] - 386s 31ms/step - loss: 0.9260 - accuracy: 0.5882\n",
      "Epoch 14/20\n",
      "12500/12500 [==============================] - 387s 31ms/step - loss: 0.9180 - accuracy: 0.5934\n",
      "Epoch 15/20\n",
      "12500/12500 [==============================] - 389s 31ms/step - loss: 0.9101 - accuracy: 0.5986\n",
      "Epoch 16/20\n",
      "12500/12500 [==============================] - 384s 31ms/step - loss: 0.9049 - accuracy: 0.6008\n",
      "Epoch 17/20\n",
      "12500/12500 [==============================] - 376s 30ms/step - loss: 0.8985 - accuracy: 0.6036\n",
      "Epoch 18/20\n",
      "12500/12500 [==============================] - 376s 30ms/step - loss: 0.8932 - accuracy: 0.6061\n",
      "Epoch 19/20\n",
      "12500/12500 [==============================] - 385s 31ms/step - loss: 0.8890 - accuracy: 0.6076\n",
      "Epoch 20/20\n",
      "12500/12500 [==============================] - 379s 30ms/step - loss: 0.8856 - accuracy: 0.6095\n"
     ]
    },
    {
     "data": {
      "text/plain": [
       "<keras.callbacks.History at 0x7f8ec5a5d9d0>"
      ]
     },
     "execution_count": 19,
     "metadata": {},
     "output_type": "execute_result"
    }
   ],
   "source": [
    "adam = tf.keras.optimizers.Adam(learning_rate = 1e-5)\n",
    "model.compile(optimizer=adam, loss='categorical_crossentropy', metrics=['accuracy'])\n",
    "callback = EarlyStopping(monitor='loss', patience=2)\n",
    "history = model.fit(X_train_indices, Y_train, validation_data=(X_test_indices, np.asarray(Y_test)), batch_size=64, epochs=20, callbacks=[callback])"
   ]
  },
  {
   "cell_type": "code",
   "execution_count": null,
   "metadata": {
    "colab": {
     "base_uri": "https://localhost:8080/"
    },
    "executionInfo": {
     "elapsed": 95750,
     "status": "ok",
     "timestamp": 1653925870783,
     "user": {
      "displayName": "Yuhan Qi",
      "userId": "06179854386609260574"
     },
     "user_tz": -120
    },
    "id": "ngGzNuFzOn7L",
    "outputId": "a375603a-a3bc-4c63-9c09-c668c04cc84b"
   },
   "outputs": [
    {
     "name": "stdout",
     "output_type": "stream",
     "text": [
      "6250/6250 [==============================] - 95s 15ms/step - loss: 0.9427 - accuracy: 0.5941\n"
     ]
    },
    {
     "data": {
      "text/plain": [
       "[0.9427026510238647, 0.5941299796104431]"
      ]
     },
     "execution_count": 21,
     "metadata": {},
     "output_type": "execute_result"
    }
   ],
   "source": [
    "model.evaluate(X_test_indices, Y_test)"
   ]
  },
  {
   "cell_type": "code",
   "execution_count": null,
   "metadata": {
    "id": "vDBzJY-iq7kY"
   },
   "outputs": [],
   "source": [
    "#plot accuracy\n",
    "epochs = 20\n",
    "plt.figure(figsize=(15, 7))\n",
    "plt.plot(range(epochs), history.history['accuracy'])\n",
    "plt.plot(range(epochs), history.history['val_accuracy'])\n",
    "plt.legend(['training_acc', 'validation_acc'])\n",
    "plt.title('Accuracy')"
   ]
  },
  {
   "cell_type": "code",
   "execution_count": null,
   "metadata": {
    "id": "HxWaLg77W9Ca"
   },
   "outputs": [],
   "source": [
    "#plot loss\n",
    "plt.figure(figsize=(15, 7))\n",
    "plt.plot(range(epochs), history.history['loss'])\n",
    "plt.plot(range(epochs), history.history['val_loss'])\n",
    "plt.legend(['training_loss', 'validation_loss'])\n",
    "plt.title('Loss')"
   ]
  },
  {
   "cell_type": "code",
   "execution_count": null,
   "metadata": {
    "id": "SKmqW5cAMq7y"
   },
   "outputs": [],
   "source": [
    "preds = model.predict(X_test_indices)"
   ]
  },
  {
   "cell_type": "code",
   "execution_count": null,
   "metadata": {
    "colab": {
     "base_uri": "https://localhost:8080/"
    },
    "executionInfo": {
     "elapsed": 429,
     "status": "ok",
     "timestamp": 1653927460491,
     "user": {
      "displayName": "Yuhan Qi",
      "userId": "06179854386609260574"
     },
     "user_tz": -120
    },
    "id": "RUF1gxGdv_X3",
    "outputId": "75a616d8-6367-4863-d11c-955a49fc9f62"
   },
   "outputs": [
    {
     "data": {
      "text/plain": [
       "array([5, 5, 2, ..., 5, 4, 4])"
      ]
     },
     "execution_count": 36,
     "metadata": {},
     "output_type": "execute_result"
    }
   ],
   "source": [
    "star_pred = np.argmax(preds, axis=1)+1\n",
    "star_pred"
   ]
  },
  {
   "cell_type": "code",
   "execution_count": null,
   "metadata": {
    "colab": {
     "base_uri": "https://localhost:8080/"
    },
    "executionInfo": {
     "elapsed": 7407,
     "status": "ok",
     "timestamp": 1653926453892,
     "user": {
      "displayName": "Yuhan Qi",
      "userId": "06179854386609260574"
     },
     "user_tz": -120
    },
    "id": "1scFmdYRPRzn",
    "outputId": "2b1d34ec-4692-430b-9534-e98d7dc654a3"
   },
   "outputs": [
    {
     "name": "stderr",
     "output_type": "stream",
     "text": [
      "WARNING:absl:Found untraced functions such as lstm_cell_layer_call_fn, lstm_cell_layer_call_and_return_conditional_losses, lstm_cell_1_layer_call_fn, lstm_cell_1_layer_call_and_return_conditional_losses while saving (showing 4 of 4). These functions will not be directly callable after loading.\n"
     ]
    },
    {
     "name": "stdout",
     "output_type": "stream",
     "text": [
      "INFO:tensorflow:Assets written to: /content/drive/My Drive/Master Thesis/Model/glove_lstm_2015_2018_1000000/assets\n"
     ]
    },
    {
     "name": "stderr",
     "output_type": "stream",
     "text": [
      "INFO:tensorflow:Assets written to: /content/drive/My Drive/Master Thesis/Model/glove_lstm_2015_2018_1000000/assets\n",
      "WARNING:absl:<keras.layers.recurrent.LSTMCell object at 0x7f8ec6f4a510> has the same name 'LSTMCell' as a built-in Keras object. Consider renaming <class 'keras.layers.recurrent.LSTMCell'> to avoid naming conflicts when loading with `tf.keras.models.load_model`. If renaming is not possible, pass the object in the `custom_objects` parameter of the load function.\n",
      "WARNING:absl:<keras.layers.recurrent.LSTMCell object at 0x7f8ec6dfcb90> has the same name 'LSTMCell' as a built-in Keras object. Consider renaming <class 'keras.layers.recurrent.LSTMCell'> to avoid naming conflicts when loading with `tf.keras.models.load_model`. If renaming is not possible, pass the object in the `custom_objects` parameter of the load function.\n"
     ]
    }
   ],
   "source": [
    "model.save('/content/drive/My Drive/Master Thesis/Model/glove_lstm_2015_2018_1000000')"
   ]
  },
  {
   "cell_type": "code",
   "execution_count": null,
   "metadata": {
    "id": "Zs1bSQN4QdGp"
   },
   "outputs": [],
   "source": [
    "loaded_model = keras.models.load_model('/content/drive/My Drive/Master Thesis/Model/glove_lstm_2015_2018_1000000')"
   ]
  },
  {
   "cell_type": "code",
   "execution_count": null,
   "metadata": {
    "id": "qq4OcUiBaas_"
   },
   "outputs": [],
   "source": [
    "# loading\n",
    "with open('/content/drive/My Drive/Master Thesis/Model/keras_tokenizer.pickle', 'rb') as handle:\n",
    "    loaded_tokenizer = pickle.load(handle)"
   ]
  },
  {
   "cell_type": "code",
   "execution_count": null,
   "metadata": {
    "id": "kyKGA-Ejae9h"
   },
   "outputs": [],
   "source": [
    "X_test_indices = loaded_tokenizer.texts_to_sequences(X_test)\n",
    "\n",
    "X_test_indices = pad_sequences(X_test_indices, maxlen=maxLen, padding='post')"
   ]
  },
  {
   "cell_type": "code",
   "execution_count": null,
   "metadata": {
    "colab": {
     "base_uri": "https://localhost:8080/"
    },
    "executionInfo": {
     "elapsed": 266,
     "status": "ok",
     "timestamp": 1654005609694,
     "user": {
      "displayName": "Yuhan Qi",
      "userId": "06179854386609260574"
     },
     "user_tz": -120
    },
    "id": "7vgf-JS_ap_h",
    "outputId": "f859a5c6-6e54-428b-8285-1892cf25aa0e"
   },
   "outputs": [
    {
     "data": {
      "text/plain": [
       "(200000, 300)"
      ]
     },
     "execution_count": 24,
     "metadata": {},
     "output_type": "execute_result"
    }
   ],
   "source": [
    "X_test_indices.shape"
   ]
  },
  {
   "cell_type": "code",
   "execution_count": null,
   "metadata": {
    "id": "R_6nGpPKQzwv"
   },
   "outputs": [],
   "source": [
    "np.testing.assert_allclose(\n",
    "    model.predict(X_test_indices), loaded_model.predict(X_test_indices)\n",
    ")"
   ]
  },
  {
   "cell_type": "code",
   "execution_count": null,
   "metadata": {
    "id": "Qg2AegqyQ84I"
   },
   "outputs": [],
   "source": [
    "loaded_preds = loaded_model.predict(X_test_indices)"
   ]
  },
  {
   "cell_type": "code",
   "execution_count": null,
   "metadata": {
    "id": "548OcWO-UB9-"
   },
   "outputs": [],
   "source": [
    "star_pred = np.argmax(loaded_preds, axis=1)+1"
   ]
  },
  {
   "cell_type": "code",
   "execution_count": null,
   "metadata": {
    "colab": {
     "base_uri": "https://localhost:8080/"
    },
    "executionInfo": {
     "elapsed": 302,
     "status": "ok",
     "timestamp": 1654005370895,
     "user": {
      "displayName": "Yuhan Qi",
      "userId": "06179854386609260574"
     },
     "user_tz": -120
    },
    "id": "abnfBeUcZu7L",
    "outputId": "bf40bfbb-71ec-45ca-dcf4-a390b5ebe606"
   },
   "outputs": [
    {
     "data": {
      "text/plain": [
       "array([5, 5, 2, ..., 5, 4, 4])"
      ]
     },
     "execution_count": 18,
     "metadata": {},
     "output_type": "execute_result"
    }
   ],
   "source": [
    "star_pred"
   ]
  }
 ],
 "metadata": {
  "colab": {
   "authorship_tag": "ABX9TyNlpQkKi/EdHPdfKUjhFNS/",
   "collapsed_sections": [],
   "name": "2015_2018_glove_lstm_model.ipynb",
   "provenance": []
  },
  "kernelspec": {
   "display_name": "Python 3 (ipykernel)",
   "language": "python",
   "name": "python3"
  },
  "language_info": {
   "codemirror_mode": {
    "name": "ipython",
    "version": 3
   },
   "file_extension": ".py",
   "mimetype": "text/x-python",
   "name": "python",
   "nbconvert_exporter": "python",
   "pygments_lexer": "ipython3",
   "version": "3.8.10"
  }
 },
 "nbformat": 4,
 "nbformat_minor": 1
}
