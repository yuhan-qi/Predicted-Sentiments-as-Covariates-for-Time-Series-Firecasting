{
 "cells": [
  {
   "cell_type": "code",
   "execution_count": 1,
   "id": "ce33efc7",
   "metadata": {},
   "outputs": [],
   "source": [
    "import pandas as pd\n",
    "import numpy as np\n",
    "import string\n",
    "import re\n",
    "import matplotlib.pyplot as plt\n",
    "from datetime import datetime\n",
    "import time\n",
    "import seaborn as sns\n",
    "from sklearn.metrics import mean_squared_error"
   ]
  },
  {
   "cell_type": "code",
   "execution_count": 2,
   "id": "abcb9d19",
   "metadata": {},
   "outputs": [],
   "source": [
    "data_bert = pd.read_json('/Users/yuhanqi/MA/code/data/transformer/512/2019_cleaned_bert_512_prediction.json')"
   ]
  },
  {
   "cell_type": "code",
   "execution_count": 3,
   "id": "af24ffec",
   "metadata": {},
   "outputs": [],
   "source": [
    "data_albert = pd.read_json('/Users/yuhanqi/MA/code/data/transformer/512/2019_cleaned_albert_512_prediction.json')"
   ]
  },
  {
   "cell_type": "code",
   "execution_count": 4,
   "id": "c3f4fd4c",
   "metadata": {},
   "outputs": [],
   "source": [
    "data_bert['stars_albert_512'] = data_albert['stars_albert_512']"
   ]
  },
  {
   "cell_type": "code",
   "execution_count": 5,
   "id": "64d8ba18",
   "metadata": {},
   "outputs": [],
   "source": [
    "data_distilbert = pd.read_json('/Users/yuhanqi/MA/code/data/transformer/512/2019_cleaned_distilbert_512_prediction.json')"
   ]
  },
  {
   "cell_type": "code",
   "execution_count": 6,
   "id": "49282702",
   "metadata": {},
   "outputs": [],
   "source": [
    "data_bert['stars_distilbert_512'] = data_distilbert['stars_distilbert_512']"
   ]
  },
  {
   "cell_type": "code",
   "execution_count": 8,
   "id": "2fd78356",
   "metadata": {},
   "outputs": [],
   "source": [
    "data_xlnet = pd.read_json('/Users/yuhanqi/MA/code/data/transformer/512/2019_cleaned_xlnet_512_prediction.json')"
   ]
  },
  {
   "cell_type": "code",
   "execution_count": 9,
   "id": "85e89b8d",
   "metadata": {},
   "outputs": [],
   "source": [
    "data_bert['stars_xlnet_512'] = data_xlnet['stars_xlnet_512']"
   ]
  },
  {
   "cell_type": "code",
   "execution_count": 10,
   "id": "6a0c276a",
   "metadata": {},
   "outputs": [],
   "source": [
    "data_roberta = pd.read_json('/Users/yuhanqi/MA/code/data/transformer/512/2019_cleaned_roberta_512_prediction.json')"
   ]
  },
  {
   "cell_type": "code",
   "execution_count": 11,
   "id": "037476b9",
   "metadata": {},
   "outputs": [],
   "source": [
    "data_bert['stars_roberta_512'] = data_roberta['stars_roberta_512']"
   ]
  },
  {
   "cell_type": "code",
   "execution_count": 12,
   "id": "9608cebf",
   "metadata": {},
   "outputs": [
    {
     "data": {
      "text/html": [
       "<div>\n",
       "<style scoped>\n",
       "    .dataframe tbody tr th:only-of-type {\n",
       "        vertical-align: middle;\n",
       "    }\n",
       "\n",
       "    .dataframe tbody tr th {\n",
       "        vertical-align: top;\n",
       "    }\n",
       "\n",
       "    .dataframe thead th {\n",
       "        text-align: right;\n",
       "    }\n",
       "</style>\n",
       "<table border=\"1\" class=\"dataframe\">\n",
       "  <thead>\n",
       "    <tr style=\"text-align: right;\">\n",
       "      <th></th>\n",
       "      <th>review_id</th>\n",
       "      <th>user_id</th>\n",
       "      <th>business_id</th>\n",
       "      <th>stars</th>\n",
       "      <th>useful</th>\n",
       "      <th>funny</th>\n",
       "      <th>cool</th>\n",
       "      <th>text</th>\n",
       "      <th>date</th>\n",
       "      <th>restaurant</th>\n",
       "      <th>...</th>\n",
       "      <th>average_stars</th>\n",
       "      <th>review_count</th>\n",
       "      <th>categories</th>\n",
       "      <th>year</th>\n",
       "      <th>cleaned_text</th>\n",
       "      <th>stars_bert_512</th>\n",
       "      <th>stars_albert_512</th>\n",
       "      <th>stars_distilbert_512</th>\n",
       "      <th>stars_xlnet_512</th>\n",
       "      <th>stars_roberta_512</th>\n",
       "    </tr>\n",
       "  </thead>\n",
       "  <tbody>\n",
       "    <tr>\n",
       "      <th>48</th>\n",
       "      <td>WglA0BSYvc3WBP4I2WpRwA</td>\n",
       "      <td>1_sws6Q8TiR21CzzNvxUiw</td>\n",
       "      <td>XQfwVwDr-v0ZS3_CbbE5Xw</td>\n",
       "      <td>5</td>\n",
       "      <td>0</td>\n",
       "      <td>0</td>\n",
       "      <td>0</td>\n",
       "      <td>I've been here now twice for brunch and the fo...</td>\n",
       "      <td>2019-04-15 01:20:23</td>\n",
       "      <td>Turning Point of North Wales</td>\n",
       "      <td>...</td>\n",
       "      <td>3.0</td>\n",
       "      <td>169</td>\n",
       "      <td>Restaurants, Breakfast &amp; Brunch, Food, Juice B...</td>\n",
       "      <td>2019</td>\n",
       "      <td>I 've be here now twice for brunch and the foo...</td>\n",
       "      <td>5</td>\n",
       "      <td>5</td>\n",
       "      <td>5</td>\n",
       "      <td>5</td>\n",
       "      <td>5</td>\n",
       "    </tr>\n",
       "  </tbody>\n",
       "</table>\n",
       "<p>1 rows × 26 columns</p>\n",
       "</div>"
      ],
      "text/plain": [
       "                 review_id                 user_id             business_id  \\\n",
       "48  WglA0BSYvc3WBP4I2WpRwA  1_sws6Q8TiR21CzzNvxUiw  XQfwVwDr-v0ZS3_CbbE5Xw   \n",
       "\n",
       "    stars  useful  funny  cool  \\\n",
       "48      5       0      0     0   \n",
       "\n",
       "                                                 text                date  \\\n",
       "48  I've been here now twice for brunch and the fo... 2019-04-15 01:20:23   \n",
       "\n",
       "                      restaurant  ... average_stars review_count  \\\n",
       "48  Turning Point of North Wales  ...           3.0          169   \n",
       "\n",
       "                                           categories  year  \\\n",
       "48  Restaurants, Breakfast & Brunch, Food, Juice B...  2019   \n",
       "\n",
       "                                         cleaned_text  stars_bert_512  \\\n",
       "48  I 've be here now twice for brunch and the foo...               5   \n",
       "\n",
       "    stars_albert_512  stars_distilbert_512 stars_xlnet_512  stars_roberta_512  \n",
       "48                 5                     5               5                  5  \n",
       "\n",
       "[1 rows x 26 columns]"
      ]
     },
     "execution_count": 12,
     "metadata": {},
     "output_type": "execute_result"
    }
   ],
   "source": [
    "data_bert.head(1)"
   ]
  },
  {
   "cell_type": "code",
   "execution_count": 13,
   "id": "1efc2eb0",
   "metadata": {},
   "outputs": [],
   "source": [
    "data_bert.to_json('/Users/yuhanqi/MA/code/data/transformer/512/2019_cleaned_transformer_512_prediction.json')"
   ]
  },
  {
   "cell_type": "code",
   "execution_count": null,
   "id": "08c640d7",
   "metadata": {},
   "outputs": [],
   "source": []
  }
 ],
 "metadata": {
  "kernelspec": {
   "display_name": "Python 3 (ipykernel)",
   "language": "python",
   "name": "python3"
  },
  "language_info": {
   "codemirror_mode": {
    "name": "ipython",
    "version": 3
   },
   "file_extension": ".py",
   "mimetype": "text/x-python",
   "name": "python",
   "nbconvert_exporter": "python",
   "pygments_lexer": "ipython3",
   "version": "3.9.12"
  }
 },
 "nbformat": 4,
 "nbformat_minor": 5
}
